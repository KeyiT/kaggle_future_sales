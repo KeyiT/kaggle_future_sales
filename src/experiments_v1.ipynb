{
 "cells": [
  {
   "cell_type": "code",
   "execution_count": 1,
   "metadata": {},
   "outputs": [
    {
     "name": "stderr",
     "output_type": "stream",
     "text": [
      "/Users/keyitang/miniconda3/envs/kaggleFutureSales/lib/python3.6/site-packages/lightgbm/__init__.py:46: UserWarning: Starting from version 2.2.1, the library file in distribution wheels for macOS is built by the Apple Clang (Xcode_8.3.1) compiler.\n",
      "This means that in case of installing LightGBM from PyPI via the ``pip install lightgbm`` command, you don't need to install the gcc compiler anymore.\n",
      "Instead of that, you need to install the OpenMP library, which is required for running LightGBM on the system with the Apple Clang compiler.\n",
      "You can install the OpenMP library by the following command: ``brew install libomp``.\n",
      "  \"You can install the OpenMP library by the following command: ``brew install libomp``.\", UserWarning)\n"
     ]
    }
   ],
   "source": [
    "import pandas as pd\n",
    "import numpy as np\n",
    "import os\n",
    "import data\n",
    "import matplotlib.pyplot as plt\n",
    "import seaborn as sns\n",
    "%matplotlib inline \n",
    "from tqdm import tqdm_notebook as tn\n",
    "import gc\n",
    "\n",
    "import sklearn\n",
    "from sklearn.model_selection import KFold\n",
    "from sklearn.preprocessing import RobustScaler\n",
    "from sklearn.linear_model import LinearRegression\n",
    "from sklearn.metrics import r2_score, mean_squared_error\n",
    "from math import sqrt\n",
    "\n",
    "import category_encoders as ce\n",
    "\n",
    "\n",
    "import lightgbm as lgb\n",
    "\n",
    "from itertools import product"
   ]
  },
  {
   "cell_type": "code",
   "execution_count": 2,
   "metadata": {},
   "outputs": [],
   "source": [
    "def downcast_dtypes(df):\n",
    "    '''\n",
    "        Changes column types in the dataframe: \n",
    "                \n",
    "                `float64` type to `float32`\n",
    "                `int64`   type to `int32`\n",
    "    '''\n",
    "    \n",
    "    # Select columns to downcast\n",
    "    float_cols = [c for c in df if df[c].dtype == \"float64\"]\n",
    "    int_cols =   [c for c in df if df[c].dtype == \"int64\"]\n",
    "    \n",
    "    # Downcast\n",
    "    df[float_cols] = df[float_cols].astype(np.float32)\n",
    "    df[int_cols]   = df[int_cols].astype(np.int32)\n",
    "    \n",
    "    return df"
   ]
  },
  {
   "cell_type": "markdown",
   "metadata": {},
   "source": [
    "## Read Data"
   ]
  },
  {
   "cell_type": "code",
   "execution_count": 3,
   "metadata": {},
   "outputs": [],
   "source": [
    "DATA_FOLDER = os.path.join(data.DATA_ROOT, \"readonly\")\n",
    "TMP_FOLDER = os.path.join(data.DATA_ROOT, \"tmp\")\n",
    "#DATA_FOLDER = \"../input\"\n",
    "#TMP_FOLDER = os.path.join(data.DATA_ROOT, \"tmp\")\n",
    "\n",
    "VALIDATION_FOLDER = os.path.join(TMP_FOLDER, \"validation\")\n",
    "SUBMISSION_FOLDER = os.path.join(TMP_FOLDER, \"submission\")"
   ]
  },
  {
   "cell_type": "code",
   "execution_count": 4,
   "metadata": {},
   "outputs": [
    {
     "name": "stdout",
     "output_type": "stream",
     "text": [
      "train data shape: (6186922, 89)\n"
     ]
    },
    {
     "data": {
      "text/plain": [
       "item_category_id                         int32\n",
       "date_block_num                           int32\n",
       "shop_id                                  int32\n",
       "item_id                                  int32\n",
       "target                                 float32\n",
       "shop_id_count_month_lag_1              float32\n",
       "shop_id_sale_month_lag_1               float32\n",
       "item_id_count_month_lag_1              float32\n",
       "item_id_sale_month_lag_1               float32\n",
       "item_price_mean_month_lag_1            float32\n",
       "item_price_std_month_lag_1             float32\n",
       "item_shop_cnt_sum_month_lag_1          float32\n",
       "item_shop_cnt_std_month_lag_1          float32\n",
       "item_shop_sale_sum_month_lag_1         float32\n",
       "item_shop_sale_std_month_lag_1         float32\n",
       "item_category_id_count_month_lag_1     float32\n",
       "item_category_id_sale_month_lag_1      float32\n",
       "shop_id_count_month_lag_2              float32\n",
       "shop_id_sale_month_lag_2               float32\n",
       "item_id_count_month_lag_2              float32\n",
       "item_id_sale_month_lag_2               float32\n",
       "item_price_mean_month_lag_2            float32\n",
       "item_price_std_month_lag_2             float32\n",
       "item_shop_cnt_sum_month_lag_2          float32\n",
       "item_shop_cnt_std_month_lag_2          float32\n",
       "item_shop_sale_sum_month_lag_2         float32\n",
       "item_shop_sale_std_month_lag_2         float32\n",
       "item_category_id_count_month_lag_2     float32\n",
       "item_category_id_sale_month_lag_2      float32\n",
       "shop_id_count_month_lag_3              float32\n",
       "                                        ...   \n",
       "item_shop_cnt_sum_month_lag_5          float32\n",
       "item_shop_cnt_std_month_lag_5          float32\n",
       "item_shop_sale_sum_month_lag_5         float32\n",
       "item_shop_sale_std_month_lag_5         float32\n",
       "item_category_id_count_month_lag_5     float32\n",
       "item_category_id_sale_month_lag_5      float32\n",
       "shop_id_count_month_lag_6              float32\n",
       "shop_id_sale_month_lag_6               float32\n",
       "item_id_count_month_lag_6              float32\n",
       "item_id_sale_month_lag_6               float32\n",
       "item_price_mean_month_lag_6            float32\n",
       "item_price_std_month_lag_6             float32\n",
       "item_shop_cnt_sum_month_lag_6          float32\n",
       "item_shop_cnt_std_month_lag_6          float32\n",
       "item_shop_sale_sum_month_lag_6         float32\n",
       "item_shop_sale_std_month_lag_6         float32\n",
       "item_category_id_count_month_lag_6     float32\n",
       "item_category_id_sale_month_lag_6      float32\n",
       "shop_id_count_month_lag_12             float32\n",
       "shop_id_sale_month_lag_12              float32\n",
       "item_id_count_month_lag_12             float32\n",
       "item_id_sale_month_lag_12              float32\n",
       "item_price_mean_month_lag_12           float32\n",
       "item_price_std_month_lag_12            float32\n",
       "item_shop_cnt_sum_month_lag_12         float32\n",
       "item_shop_cnt_std_month_lag_12         float32\n",
       "item_shop_sale_sum_month_lag_12        float32\n",
       "item_shop_sale_std_month_lag_12        float32\n",
       "item_category_id_count_month_lag_12    float32\n",
       "item_category_id_sale_month_lag_12     float32\n",
       "Length: 89, dtype: object"
      ]
     },
     "execution_count": 4,
     "metadata": {},
     "output_type": "execute_result"
    }
   ],
   "source": [
    "FOLDER = VALIDATION_FOLDER\n",
    "#FOLDER = SUBMISSION_FOLDER\n",
    "\n",
    "train_data_path = os.path.join(FOLDER, \"train.csv\")\n",
    "test_data_path = os.path.join(FOLDER, \"test.csv\")\n",
    "\n",
    "train_data = pd.read_csv(train_data_path).drop(columns=['month'])\n",
    "test_data = pd.read_csv(test_data_path).drop(columns=['month'])\n",
    "\n",
    "train_data = downcast_dtypes(train_data)\n",
    "test_data = downcast_dtypes(test_data)\n",
    "\n",
    "print(\"train data shape: \" + str(train_data.shape))\n",
    "train_data.dtypes"
   ]
  },
  {
   "cell_type": "markdown",
   "metadata": {},
   "source": [
    "## Make X and y"
   ]
  },
  {
   "cell_type": "code",
   "execution_count": 5,
   "metadata": {},
   "outputs": [],
   "source": [
    "train_y = train_data['target']\n",
    "train_x = train_data.drop(['target'], axis='columns')\n",
    "feature_names = train_x.columns.tolist()\n",
    "\n",
    "if 'target' in test_data.columns.tolist():\n",
    "    test_x = test_data.drop(['target'], axis='columns')\n",
    "    test_y = test_data['target']\n",
    "else:\n",
    "    test_x = test_data"
   ]
  },
  {
   "cell_type": "markdown",
   "metadata": {},
   "source": [
    "## Categorical Feature Encoding"
   ]
  },
  {
   "cell_type": "code",
   "execution_count": 6,
   "metadata": {},
   "outputs": [],
   "source": [
    "categorical_columns = [\n",
    "    'shop_id', 'item_id', 'item_category_id'\n",
    "]"
   ]
  },
  {
   "cell_type": "code",
   "execution_count": 7,
   "metadata": {},
   "outputs": [
    {
     "data": {
      "text/plain": [
       "item_category_id                         int32\n",
       "date_block_num                           int32\n",
       "shop_id                                  int32\n",
       "item_id                                  int32\n",
       "shop_id_count_month_lag_1              float32\n",
       "shop_id_sale_month_lag_1               float32\n",
       "item_id_count_month_lag_1              float32\n",
       "item_id_sale_month_lag_1               float32\n",
       "item_price_mean_month_lag_1            float32\n",
       "item_price_std_month_lag_1             float32\n",
       "item_shop_cnt_sum_month_lag_1          float32\n",
       "item_shop_cnt_std_month_lag_1          float32\n",
       "item_shop_sale_sum_month_lag_1         float32\n",
       "item_shop_sale_std_month_lag_1         float32\n",
       "item_category_id_count_month_lag_1     float32\n",
       "item_category_id_sale_month_lag_1      float32\n",
       "shop_id_count_month_lag_2              float32\n",
       "shop_id_sale_month_lag_2               float32\n",
       "item_id_count_month_lag_2              float32\n",
       "item_id_sale_month_lag_2               float32\n",
       "item_price_mean_month_lag_2            float32\n",
       "item_price_std_month_lag_2             float32\n",
       "item_shop_cnt_sum_month_lag_2          float32\n",
       "item_shop_cnt_std_month_lag_2          float32\n",
       "item_shop_sale_sum_month_lag_2         float32\n",
       "item_shop_sale_std_month_lag_2         float32\n",
       "item_category_id_count_month_lag_2     float32\n",
       "item_category_id_sale_month_lag_2      float32\n",
       "shop_id_count_month_lag_3              float32\n",
       "shop_id_sale_month_lag_3               float32\n",
       "                                        ...   \n",
       "item_shop_cnt_sum_month_lag_5          float32\n",
       "item_shop_cnt_std_month_lag_5          float32\n",
       "item_shop_sale_sum_month_lag_5         float32\n",
       "item_shop_sale_std_month_lag_5         float32\n",
       "item_category_id_count_month_lag_5     float32\n",
       "item_category_id_sale_month_lag_5      float32\n",
       "shop_id_count_month_lag_6              float32\n",
       "shop_id_sale_month_lag_6               float32\n",
       "item_id_count_month_lag_6              float32\n",
       "item_id_sale_month_lag_6               float32\n",
       "item_price_mean_month_lag_6            float32\n",
       "item_price_std_month_lag_6             float32\n",
       "item_shop_cnt_sum_month_lag_6          float32\n",
       "item_shop_cnt_std_month_lag_6          float32\n",
       "item_shop_sale_sum_month_lag_6         float32\n",
       "item_shop_sale_std_month_lag_6         float32\n",
       "item_category_id_count_month_lag_6     float32\n",
       "item_category_id_sale_month_lag_6      float32\n",
       "shop_id_count_month_lag_12             float32\n",
       "shop_id_sale_month_lag_12              float32\n",
       "item_id_count_month_lag_12             float32\n",
       "item_id_sale_month_lag_12              float32\n",
       "item_price_mean_month_lag_12           float32\n",
       "item_price_std_month_lag_12            float32\n",
       "item_shop_cnt_sum_month_lag_12         float32\n",
       "item_shop_cnt_std_month_lag_12         float32\n",
       "item_shop_sale_sum_month_lag_12        float32\n",
       "item_shop_sale_std_month_lag_12        float32\n",
       "item_category_id_count_month_lag_12    float32\n",
       "item_category_id_sale_month_lag_12     float32\n",
       "Length: 88, dtype: object"
      ]
     },
     "execution_count": 7,
     "metadata": {},
     "output_type": "execute_result"
    }
   ],
   "source": [
    "# Leave-One-Out Encoding\n",
    "categorical_encoder = ce.OrdinalEncoder(cols=categorical_columns, impute_missing=False, drop_invariant=True)\n",
    "categorical_encoder.fit(train_x)\n",
    "\n",
    "train_x = categorical_encoder.transform(train_x)\n",
    "test_x = categorical_encoder.transform(test_x)\n",
    "\n",
    "train_x = downcast_dtypes(train_x)\n",
    "test_x = downcast_dtypes(test_x)\n",
    "\n",
    "train_x.dtypes"
   ]
  },
  {
   "cell_type": "markdown",
   "metadata": {},
   "source": [
    "## Imputation"
   ]
  },
  {
   "cell_type": "code",
   "execution_count": 13,
   "metadata": {},
   "outputs": [],
   "source": [
    "train_x.fillna(0, inplace=True)\n",
    "test_x.fillna(0, inplace=True)\n",
    "\n",
    "train_y.fillna(0, inplace=True)\n",
    "test_y.fillna(0, inplace=True)"
   ]
  },
  {
   "cell_type": "markdown",
   "metadata": {},
   "source": [
    "## Clipping"
   ]
  },
  {
   "cell_type": "code",
   "execution_count": 9,
   "metadata": {},
   "outputs": [
    {
     "name": "stderr",
     "output_type": "stream",
     "text": [
      "/Users/keyitang/miniconda3/envs/kaggleFutureSales/lib/python3.6/site-packages/ipykernel_launcher.py:1: SettingWithCopyWarning: \n",
      "A value is trying to be set on a copy of a slice from a DataFrame\n",
      "\n",
      "See the caveats in the documentation: http://pandas.pydata.org/pandas-docs/stable/indexing.html#indexing-view-versus-copy\n",
      "  \"\"\"Entry point for launching an IPython kernel.\n",
      "/Users/keyitang/miniconda3/envs/kaggleFutureSales/lib/python3.6/site-packages/ipykernel_launcher.py:3: SettingWithCopyWarning: \n",
      "A value is trying to be set on a copy of a slice from a DataFrame\n",
      "\n",
      "See the caveats in the documentation: http://pandas.pydata.org/pandas-docs/stable/indexing.html#indexing-view-versus-copy\n",
      "  This is separate from the ipykernel package so we can avoid doing imports until\n"
     ]
    }
   ],
   "source": [
    "train_y.loc[train_y > 40] = 40\n",
    "if test_y is not None:\n",
    "    test_y.loc[test_y > 40] = 40"
   ]
  },
  {
   "cell_type": "markdown",
   "metadata": {},
   "source": [
    "## Normalization"
   ]
  },
  {
   "cell_type": "code",
   "execution_count": 10,
   "metadata": {},
   "outputs": [],
   "source": [
    "normalizer = RobustScaler()\n",
    "normalizer.fit(train_x)\n",
    "\n",
    "train_x = normalizer.transform(train_x)\n",
    "test_x = normalizer.transform(test_x)\n",
    "\n",
    "# train_y = train_y / 20\n",
    "# if test_y is not None:\n",
    "#     test_y = test_y / 20.0"
   ]
  },
  {
   "cell_type": "markdown",
   "metadata": {},
   "source": [
    "## Model Training"
   ]
  },
  {
   "cell_type": "code",
   "execution_count": 15,
   "metadata": {
    "scrolled": true
   },
   "outputs": [],
   "source": [
    "lgb_params = {\n",
    "               'feature_fraction': 0.75,\n",
    "               'metric': 'rmse',\n",
    "               'nthread':3, \n",
    "               'min_data_in_leaf': 2**7, \n",
    "               'bagging_fraction': 0.75, \n",
    "               'learning_rate': 0.03, \n",
    "               'objective': 'mse', \n",
    "               'bagging_seed': 2**7, \n",
    "               'num_leaves': 2**7,\n",
    "               'bagging_freq':1,\n",
    "               'verbose':0 \n",
    "              }\n",
    "model = lgb.train(lgb_params, lgb.Dataset(train_x, label=train_y), 100)\n",
    "\n",
    "pred_y = model.predict(train_x)\n",
    "#print('Train R-squared for LightGBM is %f' % r2_score(train_y, pred_y))\n",
    "    \n",
    "pred_y = model.predict(test_x)\n",
    "\n"
   ]
  },
  {
   "cell_type": "code",
   "execution_count": 17,
   "metadata": {},
   "outputs": [
    {
     "name": "stdout",
     "output_type": "stream",
     "text": [
      "Test R-squared for LightGBM is 0.172723\n",
      "1.0334123323838846\n"
     ]
    },
    {
     "name": "stderr",
     "output_type": "stream",
     "text": [
      "/Users/keyitang/miniconda3/envs/kaggleFutureSales/lib/python3.6/site-packages/ipykernel_launcher.py:2: SettingWithCopyWarning: \n",
      "A value is trying to be set on a copy of a slice from a DataFrame\n",
      "\n",
      "See the caveats in the documentation: http://pandas.pydata.org/pandas-docs/stable/indexing.html#indexing-view-versus-copy\n",
      "  \n"
     ]
    }
   ],
   "source": [
    "if test_y is not None:\n",
    "    test_y[test_y>20] = 20.0\n",
    "    pred_y[pred_y>20] = 20.0 \n",
    "    print('Test R-squared for LightGBM is %f' % r2_score(test_y, pred_y))\n",
    "    \n",
    "    print(sqrt(mean_squared_error(test_y, pred_y)))"
   ]
  },
  {
   "cell_type": "markdown",
   "metadata": {},
   "source": [
    "### Pick Most Important Features"
   ]
  },
  {
   "cell_type": "code",
   "execution_count": 19,
   "metadata": {},
   "outputs": [
    {
     "data": {
      "text/plain": [
       "{'date_block_num',\n",
       " 'item_category_id',\n",
       " 'item_category_id_count_month_lag_1',\n",
       " 'item_category_id_count_month_lag_2',\n",
       " 'item_category_id_count_month_lag_3',\n",
       " 'item_category_id_count_month_lag_5',\n",
       " 'item_category_id_count_month_lag_6',\n",
       " 'item_category_id_sale_month_lag_1',\n",
       " 'item_category_id_sale_month_lag_2',\n",
       " 'item_category_id_sale_month_lag_3',\n",
       " 'item_category_id_sale_month_lag_4',\n",
       " 'item_category_id_sale_month_lag_5',\n",
       " 'item_category_id_sale_month_lag_6',\n",
       " 'item_id',\n",
       " 'item_id_count_month_lag_1',\n",
       " 'item_id_count_month_lag_2',\n",
       " 'item_id_count_month_lag_3',\n",
       " 'item_id_sale_month_lag_1',\n",
       " 'item_shop_cnt_sum_month_lag_1',\n",
       " 'item_shop_cnt_sum_month_lag_2',\n",
       " 'item_shop_cnt_sum_month_lag_3',\n",
       " 'item_shop_cnt_sum_month_lag_5',\n",
       " 'item_shop_sale_sum_month_lag_1',\n",
       " 'shop_id',\n",
       " 'shop_id_count_month_lag_1',\n",
       " 'shop_id_count_month_lag_2',\n",
       " 'shop_id_count_month_lag_3',\n",
       " 'shop_id_count_month_lag_4',\n",
       " 'shop_id_sale_month_lag_1',\n",
       " 'shop_id_sale_month_lag_3'}"
      ]
     },
     "execution_count": 19,
     "metadata": {},
     "output_type": "execute_result"
    }
   ],
   "source": [
    "feature_importances = pd.DataFrame(\n",
    "    {\n",
    "        'feature_name': feature_names,\n",
    "        'feature_importance': model.feature_importance().tolist()\n",
    "    }\n",
    ")\n",
    "\n",
    "feature_importances.sort_values('feature_importance', ascending=False, inplace=True)\n",
    "important_feature_names = set(feature_importances[:30]['feature_name'].tolist())\n",
    "\n",
    "important_feature_names\n",
    "\n",
    "# feature_boolean_mask = np.asarray(list(\n",
    "#     map(\n",
    "#         lambda feature_name: feature_name in important_feature_names,\n",
    "#         feature_names\n",
    "#     )\n",
    "# ))\n",
    "\n",
    "# train_x = train_x[:, feature_boolean_mask]\n",
    "# test_x = test_x[:, feature_boolean_mask]"
   ]
  },
  {
   "cell_type": "code",
   "execution_count": null,
   "metadata": {
    "scrolled": true
   },
   "outputs": [],
   "source": [
    "# lgb_params = {\n",
    "#                'feature_fraction': 0.75,\n",
    "#                'metric': 'rmse',\n",
    "#                'nthread':1, \n",
    "#                'min_data_in_leaf': 2**7, \n",
    "#                'bagging_fraction': 0.75, \n",
    "#                'learning_rate': 0.03, \n",
    "#                'objective': 'mse', \n",
    "#                'bagging_seed': 2**7, \n",
    "#                'num_leaves': 2**6,\n",
    "#                'bagging_freq':1,\n",
    "#                'verbose':0 \n",
    "#               }\n",
    "# model = lgb.train(lgb_params, lgb.Dataset(train_x, label=train_y), 100)\n",
    "\n",
    "# pred_y = model.predict(train_x)\n",
    "# print('Train R-squared for LightGBM is %f' % r2_score(train_y, pred_y))\n",
    "    \n",
    "# pred_y = model.predict(test_x)\n",
    "# if test_y is not None:\n",
    "#     print('Test R-squared for LightGBM is %f' % r2_score(test_y, pred_y))"
   ]
  },
  {
   "cell_type": "code",
   "execution_count": null,
   "metadata": {},
   "outputs": [],
   "source": [
    "# sqrt(mean_squared_error(test_y, pred_y))"
   ]
  },
  {
   "cell_type": "code",
   "execution_count": null,
   "metadata": {},
   "outputs": [],
   "source": [
    "# model = LinearRegression().fit(train_x, train_y)\n",
    "\n",
    "# pred_y = model.predict(train_x)\n",
    "# print('Train R-squared for LinearRegression is %f' % r2_score(train_y, pred_y))\n",
    "    \n",
    "# pred_y = model.predict(test_x)\n",
    "# if test_y is not None:\n",
    "#     print('Test R-squared for LinearRegression is %f' % r2_score(test_y, pred_y))\n"
   ]
  },
  {
   "cell_type": "code",
   "execution_count": null,
   "metadata": {},
   "outputs": [],
   "source": [
    "# sqrt(mean_squared_error(test_y, pred_y))"
   ]
  },
  {
   "cell_type": "code",
   "execution_count": null,
   "metadata": {},
   "outputs": [],
   "source": []
  }
 ],
 "metadata": {
  "kernelspec": {
   "display_name": "Python 3",
   "language": "python",
   "name": "python3"
  },
  "language_info": {
   "codemirror_mode": {
    "name": "ipython",
    "version": 3
   },
   "file_extension": ".py",
   "mimetype": "text/x-python",
   "name": "python",
   "nbconvert_exporter": "python",
   "pygments_lexer": "ipython3",
   "version": "3.6.7"
  }
 },
 "nbformat": 4,
 "nbformat_minor": 1
}
