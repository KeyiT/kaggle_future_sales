{
 "cells": [
  {
   "cell_type": "code",
   "execution_count": 1,
   "metadata": {},
   "outputs": [],
   "source": [
    "import pandas as pd\n",
    "import numpy as np\n",
    "import os\n",
    "import data\n",
    "import matplotlib.pyplot as plt\n",
    "import seaborn as sns\n",
    "%matplotlib inline \n",
    "from tqdm import tqdm_notebook as tn\n",
    "import gc\n",
    "\n",
    "import sklearn\n",
    "\n",
    "from itertools import product"
   ]
  },
  {
   "cell_type": "code",
   "execution_count": 2,
   "metadata": {},
   "outputs": [],
   "source": [
    "def downcast_dtypes(df):\n",
    "    '''\n",
    "        Changes column types in the dataframe: \n",
    "                \n",
    "                `float64` type to `float32`\n",
    "                `int64`   type to `int32`\n",
    "    '''\n",
    "    \n",
    "    # Select columns to downcast\n",
    "    float_cols = [c for c in df if df[c].dtype == \"float64\"]\n",
    "    int_cols =   [c for c in df if df[c].dtype == \"int64\"]\n",
    "    \n",
    "    # Downcast\n",
    "    df[float_cols] = df[float_cols].astype(np.float32)\n",
    "    df[int_cols]   = df[int_cols].astype(np.int32)\n",
    "    \n",
    "    return df"
   ]
  },
  {
   "cell_type": "markdown",
   "metadata": {},
   "source": [
    "## Read Data"
   ]
  },
  {
   "cell_type": "code",
   "execution_count": 4,
   "metadata": {},
   "outputs": [],
   "source": [
    "DATA_FOLDER = os.path.join(data.DATA_ROOT, \"readonly\")\n",
    "TMP_FOLDER = os.path.join(data.DATA_ROOT, \"tmp\")\n",
    "#DATA_FOLDER = \"../input\"\n",
    "#TMP_FOLDER = os.path.join(data.DATA_ROOT, \"tmp\")\n",
    "\n",
    "VALIDATION_FOLDER = os.path.join(TMP_FOLDER, \"validation\")\n",
    "SBMISSION_FOLDER = os.path.join(TMP_FOLDER, \"submission\")"
   ]
  },
  {
   "cell_type": "code",
   "execution_count": 7,
   "metadata": {},
   "outputs": [
    {
     "name": "stdout",
     "output_type": "stream",
     "text": [
      "train data shape: (889869, 104)\n"
     ]
    },
    {
     "data": {
      "text/plain": [
       "Unnamed: 0                               int32\n",
       "shop_id                                  int32\n",
       "item_id                                  int32\n",
       "item_category_id                         int32\n",
       "date_block_num                           int32\n",
       "item_price                             float32\n",
       "month                                    int32\n",
       "target                                 float32\n",
       "shop_id_count_month                    float32\n",
       "shop_id_sale_month                     float32\n",
       "item_id_count_month                    float32\n",
       "item_id_sale_month                     float32\n",
       "item_category_id_count_month           float32\n",
       "item_category_id_sale_month            float32\n",
       "item_price_mean_month                  float32\n",
       "item_price_std_month                   float32\n",
       "item_shop_cnt_sum_month                float32\n",
       "item_shop_sale_sum_month               float32\n",
       "item_shop_cnt_std_month                float32\n",
       "item_shop_sale_std_month               float32\n",
       "shop_id_count_month_lag_1              float32\n",
       "shop_id_sale_month_lag_1               float32\n",
       "item_id_count_month_lag_1              float32\n",
       "item_id_sale_month_lag_1               float32\n",
       "item_category_id_count_month_lag_1     float32\n",
       "item_category_id_sale_month_lag_1      float32\n",
       "item_price_mean_month_lag_1            float32\n",
       "item_price_std_month_lag_1             float32\n",
       "item_shop_cnt_sum_month_lag_1          float32\n",
       "item_shop_cnt_std_month_lag_1          float32\n",
       "                                        ...   \n",
       "item_price_mean_month_lag_5            float32\n",
       "item_price_std_month_lag_5             float32\n",
       "item_shop_cnt_sum_month_lag_5          float32\n",
       "item_shop_cnt_std_month_lag_5          float32\n",
       "item_shop_sale_sum_month_lag_5         float32\n",
       "item_shop_sale_std_month_lag_5         float32\n",
       "shop_id_count_month_lag_6              float32\n",
       "shop_id_sale_month_lag_6               float32\n",
       "item_id_count_month_lag_6              float32\n",
       "item_id_sale_month_lag_6               float32\n",
       "item_category_id_count_month_lag_6     float32\n",
       "item_category_id_sale_month_lag_6      float32\n",
       "item_price_mean_month_lag_6            float32\n",
       "item_price_std_month_lag_6             float32\n",
       "item_shop_cnt_sum_month_lag_6          float32\n",
       "item_shop_cnt_std_month_lag_6          float32\n",
       "item_shop_sale_sum_month_lag_6         float32\n",
       "item_shop_sale_std_month_lag_6         float32\n",
       "shop_id_count_month_lag_12             float32\n",
       "shop_id_sale_month_lag_12              float32\n",
       "item_id_count_month_lag_12             float32\n",
       "item_id_sale_month_lag_12              float32\n",
       "item_category_id_count_month_lag_12    float32\n",
       "item_category_id_sale_month_lag_12     float32\n",
       "item_price_mean_month_lag_12           float32\n",
       "item_price_std_month_lag_12            float32\n",
       "item_shop_cnt_sum_month_lag_12         float32\n",
       "item_shop_cnt_std_month_lag_12         float32\n",
       "item_shop_sale_sum_month_lag_12        float32\n",
       "item_shop_sale_std_month_lag_12        float32\n",
       "Length: 104, dtype: object"
      ]
     },
     "execution_count": 7,
     "metadata": {},
     "output_type": "execute_result"
    }
   ],
   "source": [
    "FOLDER = VALIDATION_FOLDER\n",
    "#FOLDER = SUBMISSION_FOLDER\n",
    "\n",
    "train_data_path = os.path.join(FOLDER, \"train.csv\")\n",
    "test_data_path = os.path.join(FOLDER, \"test.csv\")\n",
    "\n",
    "train_data = pd.read_csv(train_data_path)\n",
    "test_data = pd.read_csv(test_data_path)\n",
    "\n",
    "train_data = downcast_dtypes(train_data)\n",
    "test_data = downcast_dtypes(test_data)\n",
    "\n",
    "print(\"train data shape: \" + str(train_data.shape))\n",
    "train_data.dtypes"
   ]
  },
  {
   "cell_type": "markdown",
   "metadata": {},
   "source": [
    "## Categorical Feature Encoding"
   ]
  },
  {
   "cell_type": "code",
   "execution_count": 6,
   "metadata": {},
   "outputs": [],
   "source": [
    "categorical_columns = [\n",
    "    'shop_id', 'item_id', 'item_category_id'\n",
    "]"
   ]
  },
  {
   "cell_type": "code",
   "execution_count": null,
   "metadata": {},
   "outputs": [],
   "source": []
  }
 ],
 "metadata": {
  "kernelspec": {
   "display_name": "Python 3",
   "language": "python",
   "name": "python3"
  },
  "language_info": {
   "codemirror_mode": {
    "name": "ipython",
    "version": 3
   },
   "file_extension": ".py",
   "mimetype": "text/x-python",
   "name": "python",
   "nbconvert_exporter": "python",
   "pygments_lexer": "ipython3",
   "version": "3.6.7"
  }
 },
 "nbformat": 4,
 "nbformat_minor": 1
}
