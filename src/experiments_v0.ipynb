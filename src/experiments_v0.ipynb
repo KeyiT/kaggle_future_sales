{
 "cells": [
  {
   "cell_type": "markdown",
   "metadata": {},
   "source": [
    "Version 1.0.1"
   ]
  },
  {
   "cell_type": "markdown",
   "metadata": {},
   "source": [
    "# This Experiment Script Is For EDA"
   ]
  },
  {
   "cell_type": "code",
   "execution_count": 1,
   "metadata": {},
   "outputs": [],
   "source": [
    "import pandas as pd\n",
    "import numpy as np\n",
    "import os\n",
    "import data\n",
    "import matplotlib.pyplot as plt\n",
    "import seaborn as sns\n",
    "%matplotlib inline \n",
    "from tqdm import tqdm_notebook as tn\n",
    "import gc\n",
    "import sklearn\n",
    "\n",
    "from itertools import product"
   ]
  },
  {
   "cell_type": "code",
   "execution_count": 2,
   "metadata": {},
   "outputs": [],
   "source": [
    "def downcast_dtypes(df):\n",
    "    '''\n",
    "        Changes column types in the dataframe: \n",
    "                \n",
    "                `float64` type to `float32`\n",
    "                `int64`   type to `int32`\n",
    "    '''\n",
    "    \n",
    "    # Select columns to downcast\n",
    "    float_cols = [c for c in df if df[c].dtype == \"float64\"]\n",
    "    int_cols =   [c for c in df if df[c].dtype == \"int64\"]\n",
    "    \n",
    "    # Downcast\n",
    "    df[float_cols] = df[float_cols].astype(np.float32)\n",
    "    df[int_cols]   = df[int_cols].astype(np.int32)\n",
    "    \n",
    "    return df\n",
    "\n",
    "\n",
    "def append_save_file(df, dst_path, is_first):\n",
    "    \n",
    "    if is_first:\n",
    "        df.to_csv(dst_path, index=False)\n",
    "    else:\n",
    "        with open(dst_path, 'a') as fp:\n",
    "            df.to_csv(fp, mode='a', index=False, header=False)"
   ]
  },
  {
   "cell_type": "markdown",
   "metadata": {},
   "source": [
    "## Data Exploration"
   ]
  },
  {
   "cell_type": "code",
   "execution_count": 3,
   "metadata": {},
   "outputs": [],
   "source": [
    "DATA_FOLDER = os.path.join(data.DATA_ROOT, \"readonly\")\n",
    "TMP_FOLDER = os.path.join(data.DATA_ROOT, \"tmp\")\n",
    "#DATA_FOLDER = \"../input\"\n",
    "#TMP_FOLDER = os.path.join(data.DATA_ROOT, \"tmp\")\n",
    "\n",
    "transactions    = pd.read_csv(os.path.join(DATA_FOLDER, 'sales_train.csv.gz'))\n",
    "items           = pd.read_csv(os.path.join(DATA_FOLDER, 'items.csv'))\n",
    "item_categories = pd.read_csv(os.path.join(DATA_FOLDER, 'item_categories.csv'))\n",
    "shops           = pd.read_csv(os.path.join(DATA_FOLDER, 'shops.csv'))\n",
    "\n",
    "test            = pd.read_csv(os.path.join(DATA_FOLDER, 'test.csv.gz'))\n",
    "\n",
    "train_transactions_path = os.path.join(TMP_FOLDER, 'transactions_train.csv')\n",
    "\n",
    "VALIDATION_FOLDER = os.path.join(TMP_FOLDER, \"validation\")\n",
    "SUBMISSION_FOLDER = os.path.join(TMP_FOLDER, \"submission\")\n",
    "\n",
    "transactions = downcast_dtypes(transactions)"
   ]
  },
  {
   "cell_type": "code",
   "execution_count": 4,
   "metadata": {},
   "outputs": [
    {
     "data": {
      "text/html": [
       "<div>\n",
       "<style scoped>\n",
       "    .dataframe tbody tr th:only-of-type {\n",
       "        vertical-align: middle;\n",
       "    }\n",
       "\n",
       "    .dataframe tbody tr th {\n",
       "        vertical-align: top;\n",
       "    }\n",
       "\n",
       "    .dataframe thead th {\n",
       "        text-align: right;\n",
       "    }\n",
       "</style>\n",
       "<table border=\"1\" class=\"dataframe\">\n",
       "  <thead>\n",
       "    <tr style=\"text-align: right;\">\n",
       "      <th></th>\n",
       "      <th>date</th>\n",
       "      <th>date_block_num</th>\n",
       "      <th>shop_id</th>\n",
       "      <th>item_id</th>\n",
       "      <th>item_price</th>\n",
       "      <th>item_cnt_day</th>\n",
       "    </tr>\n",
       "  </thead>\n",
       "  <tbody>\n",
       "    <tr>\n",
       "      <th>0</th>\n",
       "      <td>02.01.2013</td>\n",
       "      <td>0</td>\n",
       "      <td>59</td>\n",
       "      <td>22154</td>\n",
       "      <td>999.000000</td>\n",
       "      <td>1.0</td>\n",
       "    </tr>\n",
       "    <tr>\n",
       "      <th>1</th>\n",
       "      <td>03.01.2013</td>\n",
       "      <td>0</td>\n",
       "      <td>25</td>\n",
       "      <td>2552</td>\n",
       "      <td>899.000000</td>\n",
       "      <td>1.0</td>\n",
       "    </tr>\n",
       "    <tr>\n",
       "      <th>2</th>\n",
       "      <td>05.01.2013</td>\n",
       "      <td>0</td>\n",
       "      <td>25</td>\n",
       "      <td>2552</td>\n",
       "      <td>899.000000</td>\n",
       "      <td>-1.0</td>\n",
       "    </tr>\n",
       "    <tr>\n",
       "      <th>3</th>\n",
       "      <td>06.01.2013</td>\n",
       "      <td>0</td>\n",
       "      <td>25</td>\n",
       "      <td>2554</td>\n",
       "      <td>1709.050049</td>\n",
       "      <td>1.0</td>\n",
       "    </tr>\n",
       "    <tr>\n",
       "      <th>4</th>\n",
       "      <td>15.01.2013</td>\n",
       "      <td>0</td>\n",
       "      <td>25</td>\n",
       "      <td>2555</td>\n",
       "      <td>1099.000000</td>\n",
       "      <td>1.0</td>\n",
       "    </tr>\n",
       "  </tbody>\n",
       "</table>\n",
       "</div>"
      ],
      "text/plain": [
       "         date  date_block_num  shop_id  item_id   item_price  item_cnt_day\n",
       "0  02.01.2013               0       59    22154   999.000000           1.0\n",
       "1  03.01.2013               0       25     2552   899.000000           1.0\n",
       "2  05.01.2013               0       25     2552   899.000000          -1.0\n",
       "3  06.01.2013               0       25     2554  1709.050049           1.0\n",
       "4  15.01.2013               0       25     2555  1099.000000           1.0"
      ]
     },
     "execution_count": 4,
     "metadata": {},
     "output_type": "execute_result"
    }
   ],
   "source": [
    "transactions.head()"
   ]
  },
  {
   "cell_type": "code",
   "execution_count": 5,
   "metadata": {},
   "outputs": [
    {
     "data": {
      "text/html": [
       "<div>\n",
       "<style scoped>\n",
       "    .dataframe tbody tr th:only-of-type {\n",
       "        vertical-align: middle;\n",
       "    }\n",
       "\n",
       "    .dataframe tbody tr th {\n",
       "        vertical-align: top;\n",
       "    }\n",
       "\n",
       "    .dataframe thead th {\n",
       "        text-align: right;\n",
       "    }\n",
       "</style>\n",
       "<table border=\"1\" class=\"dataframe\">\n",
       "  <thead>\n",
       "    <tr style=\"text-align: right;\">\n",
       "      <th></th>\n",
       "      <th>item_category_name</th>\n",
       "      <th>item_category_id</th>\n",
       "    </tr>\n",
       "  </thead>\n",
       "  <tbody>\n",
       "    <tr>\n",
       "      <th>0</th>\n",
       "      <td>PC - Гарнитуры/Наушники</td>\n",
       "      <td>0</td>\n",
       "    </tr>\n",
       "    <tr>\n",
       "      <th>1</th>\n",
       "      <td>Аксессуары - PS2</td>\n",
       "      <td>1</td>\n",
       "    </tr>\n",
       "    <tr>\n",
       "      <th>2</th>\n",
       "      <td>Аксессуары - PS3</td>\n",
       "      <td>2</td>\n",
       "    </tr>\n",
       "    <tr>\n",
       "      <th>3</th>\n",
       "      <td>Аксессуары - PS4</td>\n",
       "      <td>3</td>\n",
       "    </tr>\n",
       "    <tr>\n",
       "      <th>4</th>\n",
       "      <td>Аксессуары - PSP</td>\n",
       "      <td>4</td>\n",
       "    </tr>\n",
       "  </tbody>\n",
       "</table>\n",
       "</div>"
      ],
      "text/plain": [
       "        item_category_name  item_category_id\n",
       "0  PC - Гарнитуры/Наушники                 0\n",
       "1         Аксессуары - PS2                 1\n",
       "2         Аксессуары - PS3                 2\n",
       "3         Аксессуары - PS4                 3\n",
       "4         Аксессуары - PSP                 4"
      ]
     },
     "execution_count": 5,
     "metadata": {},
     "output_type": "execute_result"
    }
   ],
   "source": [
    "item_categories.head()"
   ]
  },
  {
   "cell_type": "code",
   "execution_count": 6,
   "metadata": {},
   "outputs": [
    {
     "data": {
      "text/html": [
       "<div>\n",
       "<style scoped>\n",
       "    .dataframe tbody tr th:only-of-type {\n",
       "        vertical-align: middle;\n",
       "    }\n",
       "\n",
       "    .dataframe tbody tr th {\n",
       "        vertical-align: top;\n",
       "    }\n",
       "\n",
       "    .dataframe thead th {\n",
       "        text-align: right;\n",
       "    }\n",
       "</style>\n",
       "<table border=\"1\" class=\"dataframe\">\n",
       "  <thead>\n",
       "    <tr style=\"text-align: right;\">\n",
       "      <th></th>\n",
       "      <th>item_name</th>\n",
       "      <th>item_id</th>\n",
       "      <th>item_category_id</th>\n",
       "    </tr>\n",
       "  </thead>\n",
       "  <tbody>\n",
       "    <tr>\n",
       "      <th>0</th>\n",
       "      <td>! ВО ВЛАСТИ НАВАЖДЕНИЯ (ПЛАСТ.)         D</td>\n",
       "      <td>0</td>\n",
       "      <td>40</td>\n",
       "    </tr>\n",
       "    <tr>\n",
       "      <th>1</th>\n",
       "      <td>!ABBYY FineReader 12 Professional Edition Full...</td>\n",
       "      <td>1</td>\n",
       "      <td>76</td>\n",
       "    </tr>\n",
       "    <tr>\n",
       "      <th>2</th>\n",
       "      <td>***В ЛУЧАХ СЛАВЫ   (UNV)                    D</td>\n",
       "      <td>2</td>\n",
       "      <td>40</td>\n",
       "    </tr>\n",
       "    <tr>\n",
       "      <th>3</th>\n",
       "      <td>***ГОЛУБАЯ ВОЛНА  (Univ)                      D</td>\n",
       "      <td>3</td>\n",
       "      <td>40</td>\n",
       "    </tr>\n",
       "    <tr>\n",
       "      <th>4</th>\n",
       "      <td>***КОРОБКА (СТЕКЛО)                       D</td>\n",
       "      <td>4</td>\n",
       "      <td>40</td>\n",
       "    </tr>\n",
       "  </tbody>\n",
       "</table>\n",
       "</div>"
      ],
      "text/plain": [
       "                                           item_name  item_id  \\\n",
       "0          ! ВО ВЛАСТИ НАВАЖДЕНИЯ (ПЛАСТ.)         D        0   \n",
       "1  !ABBYY FineReader 12 Professional Edition Full...        1   \n",
       "2      ***В ЛУЧАХ СЛАВЫ   (UNV)                    D        2   \n",
       "3    ***ГОЛУБАЯ ВОЛНА  (Univ)                      D        3   \n",
       "4        ***КОРОБКА (СТЕКЛО)                       D        4   \n",
       "\n",
       "   item_category_id  \n",
       "0                40  \n",
       "1                76  \n",
       "2                40  \n",
       "3                40  \n",
       "4                40  "
      ]
     },
     "execution_count": 6,
     "metadata": {},
     "output_type": "execute_result"
    }
   ],
   "source": [
    "items.head()"
   ]
  },
  {
   "cell_type": "code",
   "execution_count": 7,
   "metadata": {},
   "outputs": [
    {
     "data": {
      "text/html": [
       "<div>\n",
       "<style scoped>\n",
       "    .dataframe tbody tr th:only-of-type {\n",
       "        vertical-align: middle;\n",
       "    }\n",
       "\n",
       "    .dataframe tbody tr th {\n",
       "        vertical-align: top;\n",
       "    }\n",
       "\n",
       "    .dataframe thead th {\n",
       "        text-align: right;\n",
       "    }\n",
       "</style>\n",
       "<table border=\"1\" class=\"dataframe\">\n",
       "  <thead>\n",
       "    <tr style=\"text-align: right;\">\n",
       "      <th></th>\n",
       "      <th>shop_name</th>\n",
       "      <th>shop_id</th>\n",
       "    </tr>\n",
       "  </thead>\n",
       "  <tbody>\n",
       "    <tr>\n",
       "      <th>0</th>\n",
       "      <td>!Якутск Орджоникидзе, 56 фран</td>\n",
       "      <td>0</td>\n",
       "    </tr>\n",
       "    <tr>\n",
       "      <th>1</th>\n",
       "      <td>!Якутск ТЦ \"Центральный\" фран</td>\n",
       "      <td>1</td>\n",
       "    </tr>\n",
       "    <tr>\n",
       "      <th>2</th>\n",
       "      <td>Адыгея ТЦ \"Мега\"</td>\n",
       "      <td>2</td>\n",
       "    </tr>\n",
       "    <tr>\n",
       "      <th>3</th>\n",
       "      <td>Балашиха ТРК \"Октябрь-Киномир\"</td>\n",
       "      <td>3</td>\n",
       "    </tr>\n",
       "    <tr>\n",
       "      <th>4</th>\n",
       "      <td>Волжский ТЦ \"Волга Молл\"</td>\n",
       "      <td>4</td>\n",
       "    </tr>\n",
       "  </tbody>\n",
       "</table>\n",
       "</div>"
      ],
      "text/plain": [
       "                        shop_name  shop_id\n",
       "0   !Якутск Орджоникидзе, 56 фран        0\n",
       "1   !Якутск ТЦ \"Центральный\" фран        1\n",
       "2                Адыгея ТЦ \"Мега\"        2\n",
       "3  Балашиха ТРК \"Октябрь-Киномир\"        3\n",
       "4        Волжский ТЦ \"Волга Молл\"        4"
      ]
     },
     "execution_count": 7,
     "metadata": {},
     "output_type": "execute_result"
    }
   ],
   "source": [
    "shops.head()"
   ]
  },
  {
   "cell_type": "code",
   "execution_count": 8,
   "metadata": {},
   "outputs": [
    {
     "data": {
      "text/html": [
       "<div>\n",
       "<style scoped>\n",
       "    .dataframe tbody tr th:only-of-type {\n",
       "        vertical-align: middle;\n",
       "    }\n",
       "\n",
       "    .dataframe tbody tr th {\n",
       "        vertical-align: top;\n",
       "    }\n",
       "\n",
       "    .dataframe thead th {\n",
       "        text-align: right;\n",
       "    }\n",
       "</style>\n",
       "<table border=\"1\" class=\"dataframe\">\n",
       "  <thead>\n",
       "    <tr style=\"text-align: right;\">\n",
       "      <th></th>\n",
       "      <th>ID</th>\n",
       "      <th>shop_id</th>\n",
       "      <th>item_id</th>\n",
       "    </tr>\n",
       "  </thead>\n",
       "  <tbody>\n",
       "    <tr>\n",
       "      <th>0</th>\n",
       "      <td>0</td>\n",
       "      <td>5</td>\n",
       "      <td>5037</td>\n",
       "    </tr>\n",
       "    <tr>\n",
       "      <th>1</th>\n",
       "      <td>1</td>\n",
       "      <td>5</td>\n",
       "      <td>5320</td>\n",
       "    </tr>\n",
       "    <tr>\n",
       "      <th>2</th>\n",
       "      <td>2</td>\n",
       "      <td>5</td>\n",
       "      <td>5233</td>\n",
       "    </tr>\n",
       "    <tr>\n",
       "      <th>3</th>\n",
       "      <td>3</td>\n",
       "      <td>5</td>\n",
       "      <td>5232</td>\n",
       "    </tr>\n",
       "    <tr>\n",
       "      <th>4</th>\n",
       "      <td>4</td>\n",
       "      <td>5</td>\n",
       "      <td>5268</td>\n",
       "    </tr>\n",
       "  </tbody>\n",
       "</table>\n",
       "</div>"
      ],
      "text/plain": [
       "   ID  shop_id  item_id\n",
       "0   0        5     5037\n",
       "1   1        5     5320\n",
       "2   2        5     5233\n",
       "3   3        5     5232\n",
       "4   4        5     5268"
      ]
     },
     "execution_count": 8,
     "metadata": {},
     "output_type": "execute_result"
    }
   ],
   "source": [
    "test.head()"
   ]
  },
  {
   "cell_type": "markdown",
   "metadata": {},
   "source": [
    "## Data Cleaning"
   ]
  },
  {
   "cell_type": "code",
   "execution_count": 9,
   "metadata": {},
   "outputs": [],
   "source": [
    "item_categories.drop_duplicates(subset=('item_category_id'), inplace=True)\n",
    "items.drop_duplicates(subset=('item_id'), inplace=True)\n",
    "shops.drop_duplicates(subset=('shop_id'), inplace=True)\n",
    "test.drop_duplicates(subset=('item_id', 'shop_id'), inplace=True)"
   ]
  },
  {
   "cell_type": "markdown",
   "metadata": {},
   "source": [
    "## EDA\n"
   ]
  },
  {
   "cell_type": "markdown",
   "metadata": {},
   "source": [
    "### Dates"
   ]
  },
  {
   "cell_type": "code",
   "execution_count": 10,
   "metadata": {},
   "outputs": [],
   "source": [
    "transactions['date_formatted'] = pd.to_datetime(transactions['date'], format=\"%d.%m.%Y\")\n",
    "dates_count = transactions['date_formatted'].value_counts().sort_index(ascending=True)"
   ]
  },
  {
   "cell_type": "code",
   "execution_count": 11,
   "metadata": {},
   "outputs": [
    {
     "data": {
      "image/png": "[encoded data removed]",
      "text/plain": [
       "<Figure size 432x288 with 1 Axes>"
      ]
     },
     "metadata": {
      "needs_background": "light"
     },
     "output_type": "display_data"
    }
   ],
   "source": [
    "dates_count.plot.bar()\n",
    "gca = plt.gca()\n",
    "gca.axes.get_xaxis().set_visible(False)\n",
    "\n",
    "del dates_count\n",
    "gc.collect();"
   ]
  },
  {
   "cell_type": "code",
   "execution_count": 12,
   "metadata": {},
   "outputs": [],
   "source": [
    "transactions[['day','month','year']] = transactions.date.str.split('.',expand=True)"
   ]
  },
  {
   "cell_type": "code",
   "execution_count": 13,
   "metadata": {},
   "outputs": [
    {
     "data": {
      "image/png": "[encoded data removed]",
      "text/plain": [
       "<Figure size 432x288 with 1 Axes>"
      ]
     },
     "metadata": {
      "needs_background": "light"
     },
     "output_type": "display_data"
    }
   ],
   "source": [
    "transactions.year.value_counts().sort_index().plot.bar(title='year')\n",
    "gca = plt.gca()\n",
    "gca.axes.get_xaxis().set_visible(False)"
   ]
  },
  {
   "cell_type": "code",
   "execution_count": 14,
   "metadata": {},
   "outputs": [
    {
     "data": {
      "image/png": "[encoded data removed]",
      "text/plain": [
       "<Figure size 432x288 with 1 Axes>"
      ]
     },
     "metadata": {
      "needs_background": "light"
     },
     "output_type": "display_data"
    }
   ],
   "source": [
    "transactions.month.value_counts().sort_index().plot.bar(title='month')\n",
    "gca = plt.gca()\n",
    "gca.axes.get_xaxis().set_visible(False)"
   ]
  },
  {
   "cell_type": "code",
   "execution_count": 15,
   "metadata": {},
   "outputs": [
    {
     "data": {
      "image/png": "[encoded data removed]",
      "text/plain": [
       "<Figure size 432x288 with 1 Axes>"
      ]
     },
     "metadata": {
      "needs_background": "light"
     },
     "output_type": "display_data"
    }
   ],
   "source": [
    "transactions.day.value_counts().sort_index().plot.bar(title='day')\n",
    "gca = plt.gca()\n",
    "gca.axes.get_xaxis().set_visible(False)"
   ]
  },
  {
   "cell_type": "markdown",
   "metadata": {},
   "source": [
    "1. The training data has **Daily** time granularity\n",
    "2. There is no obvious trend over the the number of recorders over daily time buckets.\n",
    "3. There is obvious trend over yearly and monthly level. The records are decreased over years. The the number of transaction is larger from Dec to Mar. \n",
    "4. **Mean encocding** and **counts of records**, **sum of item counts** over year and month bucket should help with prediction."
   ]
  },
  {
   "cell_type": "markdown",
   "metadata": {},
   "source": [
    "### Dates Block Number"
   ]
  },
  {
   "cell_type": "code",
   "execution_count": 16,
   "metadata": {},
   "outputs": [
    {
     "data": {
      "image/png": "[encoded data removed]",
      "text/plain": [
       "<Figure size 432x288 with 1 Axes>"
      ]
     },
     "metadata": {
      "needs_background": "light"
     },
     "output_type": "display_data"
    }
   ],
   "source": [
    "transactions['date_block_num'].value_counts().sort_index(ascending=True).plot.bar()\n",
    "gca = plt.gca()\n",
    "gca.axes.get_xaxis().set_visible(False)"
   ]
  },
  {
   "cell_type": "markdown",
   "metadata": {},
   "source": [
    "#### Test Date Block Number and Date"
   ]
  },
  {
   "cell_type": "code",
   "execution_count": 17,
   "metadata": {},
   "outputs": [
    {
     "name": "stdout",
     "output_type": "stream",
     "text": [
      "maximum date block number: 33\n"
     ]
    },
    {
     "data": {
      "text/html": [
       "<div>\n",
       "<style scoped>\n",
       "    .dataframe tbody tr th:only-of-type {\n",
       "        vertical-align: middle;\n",
       "    }\n",
       "\n",
       "    .dataframe tbody tr th {\n",
       "        vertical-align: top;\n",
       "    }\n",
       "\n",
       "    .dataframe thead th {\n",
       "        text-align: right;\n",
       "    }\n",
       "</style>\n",
       "<table border=\"1\" class=\"dataframe\">\n",
       "  <thead>\n",
       "    <tr style=\"text-align: right;\">\n",
       "      <th></th>\n",
       "      <th>year</th>\n",
       "      <th>month</th>\n",
       "      <th>date_block_num</th>\n",
       "    </tr>\n",
       "  </thead>\n",
       "  <tbody>\n",
       "    <tr>\n",
       "      <th>2882335</th>\n",
       "      <td>2015</td>\n",
       "      <td>10</td>\n",
       "      <td>33</td>\n",
       "    </tr>\n",
       "  </tbody>\n",
       "</table>\n",
       "</div>"
      ],
      "text/plain": [
       "         year month  date_block_num\n",
       "2882335  2015    10              33"
      ]
     },
     "execution_count": 17,
     "metadata": {},
     "output_type": "execute_result"
    }
   ],
   "source": [
    "date_block_num_max = transactions['date_block_num'].max()\n",
    "year_month_max = transactions[transactions['date_block_num']==date_block_num_max][['year', 'month', 'date_block_num']].drop_duplicates()\n",
    "print(\"maximum date block number: \" + str(date_block_num_max))\n",
    "year_month_max"
   ]
  },
  {
   "cell_type": "markdown",
   "metadata": {},
   "source": [
    "### Item Id"
   ]
  },
  {
   "cell_type": "code",
   "execution_count": 18,
   "metadata": {},
   "outputs": [
    {
     "name": "stdout",
     "output_type": "stream",
     "text": [
      "min item counts: 1\n",
      "max item counts: 31340\n"
     ]
    }
   ],
   "source": [
    "item_value_counts = transactions['item_id'].value_counts()\n",
    "print('min item counts: ' + str(item_value_counts.min()))\n",
    "print('max item counts: ' + str(item_value_counts.max()))"
   ]
  },
  {
   "cell_type": "code",
   "execution_count": 19,
   "metadata": {},
   "outputs": [
    {
     "data": {
      "text/plain": [
       "122028"
      ]
     },
     "execution_count": 19,
     "metadata": {},
     "output_type": "execute_result"
    }
   ],
   "source": [
    "del item_value_counts\n",
    "gc.collect()"
   ]
  },
  {
   "cell_type": "markdown",
   "metadata": {},
   "source": [
    "### Shop Id"
   ]
  },
  {
   "cell_type": "code",
   "execution_count": 20,
   "metadata": {},
   "outputs": [
    {
     "data": {
      "image/png": "[encoded data removed]",
      "text/plain": [
       "<Figure size 432x288 with 1 Axes>"
      ]
     },
     "metadata": {
      "needs_background": "light"
     },
     "output_type": "display_data"
    }
   ],
   "source": [
    "transactions['shop_id'].value_counts().sort_index(ascending=True).plot.bar()\n",
    "gca = plt.gca()\n",
    "gca.axes.get_xaxis().set_visible(False)"
   ]
  },
  {
   "cell_type": "markdown",
   "metadata": {},
   "source": [
    "### Item and Shop Id"
   ]
  },
  {
   "cell_type": "code",
   "execution_count": 21,
   "metadata": {},
   "outputs": [
    {
     "data": {
      "text/plain": [
       "867"
      ]
     },
     "execution_count": 21,
     "metadata": {},
     "output_type": "execute_result"
    }
   ],
   "source": [
    "item_shop_values = transactions[['item_id', 'shop_id']].drop_duplicates()\n",
    "item_shop_values_counts = transactions[['item_id', 'shop_id']].groupby(['item_id', 'shop_id']).size()\n",
    "item_shop_values_counts.max()"
   ]
  },
  {
   "cell_type": "code",
   "execution_count": 22,
   "metadata": {},
   "outputs": [
    {
     "data": {
      "text/plain": [
       "5347"
      ]
     },
     "execution_count": 22,
     "metadata": {},
     "output_type": "execute_result"
    }
   ],
   "source": [
    "del item_shop_values, item_shop_values_counts\n",
    "gc.collect()"
   ]
  },
  {
   "cell_type": "markdown",
   "metadata": {},
   "source": [
    "### Possible Features\n",
    "1. Target Encoding of of Year, Month, Day\n",
    "2. Target encoding of shop id, item id.\n",
    "2. Count of recoders, shops, items over year, month, daily buckets.\n",
    "2. Lagged values of total shop counts, item counts, sales, recorders.\n",
    "3. Average price of items over year month, daily buckets.\n",
    "3. Lagged average price of items.\n",
    "4. Total sales over year, month, daily buckets.\n",
    "4. Lagged values of total sales."
   ]
  },
  {
   "cell_type": "markdown",
   "metadata": {},
   "source": [
    "## Feature Generation"
   ]
  },
  {
   "cell_type": "markdown",
   "metadata": {},
   "source": [
    "### Generate Target"
   ]
  },
  {
   "cell_type": "code",
   "execution_count": 23,
   "metadata": {},
   "outputs": [
    {
     "data": {
      "text/html": [
       "<div>\n",
       "<style scoped>\n",
       "    .dataframe tbody tr th:only-of-type {\n",
       "        vertical-align: middle;\n",
       "    }\n",
       "\n",
       "    .dataframe tbody tr th {\n",
       "        vertical-align: top;\n",
       "    }\n",
       "\n",
       "    .dataframe thead th {\n",
       "        text-align: right;\n",
       "    }\n",
       "</style>\n",
       "<table border=\"1\" class=\"dataframe\">\n",
       "  <thead>\n",
       "    <tr style=\"text-align: right;\">\n",
       "      <th></th>\n",
       "      <th>date</th>\n",
       "      <th>date_block_num</th>\n",
       "      <th>shop_id</th>\n",
       "      <th>item_id</th>\n",
       "      <th>item_price</th>\n",
       "      <th>item_cnt_day</th>\n",
       "      <th>date_formatted</th>\n",
       "      <th>day</th>\n",
       "      <th>month</th>\n",
       "      <th>year</th>\n",
       "      <th>item_sale_day</th>\n",
       "      <th>target</th>\n",
       "    </tr>\n",
       "  </thead>\n",
       "  <tbody>\n",
       "    <tr>\n",
       "      <th>0</th>\n",
       "      <td>02.01.2013</td>\n",
       "      <td>0</td>\n",
       "      <td>59</td>\n",
       "      <td>22154</td>\n",
       "      <td>999.000000</td>\n",
       "      <td>1.0</td>\n",
       "      <td>2013-01-02</td>\n",
       "      <td>02</td>\n",
       "      <td>01</td>\n",
       "      <td>2013</td>\n",
       "      <td>999.000000</td>\n",
       "      <td>1.0</td>\n",
       "    </tr>\n",
       "    <tr>\n",
       "      <th>1</th>\n",
       "      <td>03.01.2013</td>\n",
       "      <td>0</td>\n",
       "      <td>25</td>\n",
       "      <td>2552</td>\n",
       "      <td>899.000000</td>\n",
       "      <td>1.0</td>\n",
       "      <td>2013-01-03</td>\n",
       "      <td>03</td>\n",
       "      <td>01</td>\n",
       "      <td>2013</td>\n",
       "      <td>899.000000</td>\n",
       "      <td>0.0</td>\n",
       "    </tr>\n",
       "    <tr>\n",
       "      <th>2</th>\n",
       "      <td>05.01.2013</td>\n",
       "      <td>0</td>\n",
       "      <td>25</td>\n",
       "      <td>2552</td>\n",
       "      <td>899.000000</td>\n",
       "      <td>-1.0</td>\n",
       "      <td>2013-01-05</td>\n",
       "      <td>05</td>\n",
       "      <td>01</td>\n",
       "      <td>2013</td>\n",
       "      <td>-899.000000</td>\n",
       "      <td>0.0</td>\n",
       "    </tr>\n",
       "    <tr>\n",
       "      <th>3</th>\n",
       "      <td>06.01.2013</td>\n",
       "      <td>0</td>\n",
       "      <td>25</td>\n",
       "      <td>2554</td>\n",
       "      <td>1709.050049</td>\n",
       "      <td>1.0</td>\n",
       "      <td>2013-01-06</td>\n",
       "      <td>06</td>\n",
       "      <td>01</td>\n",
       "      <td>2013</td>\n",
       "      <td>1709.050049</td>\n",
       "      <td>1.0</td>\n",
       "    </tr>\n",
       "    <tr>\n",
       "      <th>4</th>\n",
       "      <td>15.01.2013</td>\n",
       "      <td>0</td>\n",
       "      <td>25</td>\n",
       "      <td>2555</td>\n",
       "      <td>1099.000000</td>\n",
       "      <td>1.0</td>\n",
       "      <td>2013-01-15</td>\n",
       "      <td>15</td>\n",
       "      <td>01</td>\n",
       "      <td>2013</td>\n",
       "      <td>1099.000000</td>\n",
       "      <td>1.0</td>\n",
       "    </tr>\n",
       "  </tbody>\n",
       "</table>\n",
       "</div>"
      ],
      "text/plain": [
       "         date  date_block_num  shop_id  item_id   item_price  item_cnt_day  \\\n",
       "0  02.01.2013               0       59    22154   999.000000           1.0   \n",
       "1  03.01.2013               0       25     2552   899.000000           1.0   \n",
       "2  05.01.2013               0       25     2552   899.000000          -1.0   \n",
       "3  06.01.2013               0       25     2554  1709.050049           1.0   \n",
       "4  15.01.2013               0       25     2555  1099.000000           1.0   \n",
       "\n",
       "  date_formatted day month  year  item_sale_day  target  \n",
       "0     2013-01-02  02    01  2013     999.000000     1.0  \n",
       "1     2013-01-03  03    01  2013     899.000000     0.0  \n",
       "2     2013-01-05  05    01  2013    -899.000000     0.0  \n",
       "3     2013-01-06  06    01  2013    1709.050049     1.0  \n",
       "4     2013-01-15  15    01  2013    1099.000000     1.0  "
      ]
     },
     "execution_count": 23,
     "metadata": {},
     "output_type": "execute_result"
    }
   ],
   "source": [
    "col_names = ['item_id', 'shop_id', 'year', 'month']\n",
    "transactions['item_sale_day'] = transactions['item_price'] * transactions['item_cnt_day']\n",
    "target = transactions[col_names + ['item_cnt_day']].dropna().groupby(col_names).sum().rename({'item_cnt_day': 'target'}, axis='columns')\n",
    "transactions = transactions.join(target, on=col_names)\n",
    "transactions.head()"
   ]
  },
  {
   "cell_type": "code",
   "execution_count": 24,
   "metadata": {},
   "outputs": [],
   "source": [
    "del col_names, target\n",
    "gc.collect();"
   ]
  },
  {
   "cell_type": "markdown",
   "metadata": {},
   "source": [
    "### Item Category Id"
   ]
  },
  {
   "cell_type": "code",
   "execution_count": 25,
   "metadata": {},
   "outputs": [
    {
     "data": {
      "text/html": [
       "<div>\n",
       "<style scoped>\n",
       "    .dataframe tbody tr th:only-of-type {\n",
       "        vertical-align: middle;\n",
       "    }\n",
       "\n",
       "    .dataframe tbody tr th {\n",
       "        vertical-align: top;\n",
       "    }\n",
       "\n",
       "    .dataframe thead th {\n",
       "        text-align: right;\n",
       "    }\n",
       "</style>\n",
       "<table border=\"1\" class=\"dataframe\">\n",
       "  <thead>\n",
       "    <tr style=\"text-align: right;\">\n",
       "      <th></th>\n",
       "      <th>date</th>\n",
       "      <th>date_block_num</th>\n",
       "      <th>shop_id</th>\n",
       "      <th>item_id</th>\n",
       "      <th>item_price</th>\n",
       "      <th>item_cnt_day</th>\n",
       "      <th>date_formatted</th>\n",
       "      <th>day</th>\n",
       "      <th>month</th>\n",
       "      <th>year</th>\n",
       "      <th>item_sale_day</th>\n",
       "      <th>target</th>\n",
       "      <th>item_category_id</th>\n",
       "    </tr>\n",
       "  </thead>\n",
       "  <tbody>\n",
       "    <tr>\n",
       "      <th>0</th>\n",
       "      <td>02.01.2013</td>\n",
       "      <td>0</td>\n",
       "      <td>59</td>\n",
       "      <td>22154</td>\n",
       "      <td>999.000000</td>\n",
       "      <td>1.0</td>\n",
       "      <td>2013-01-02</td>\n",
       "      <td>02</td>\n",
       "      <td>01</td>\n",
       "      <td>2013</td>\n",
       "      <td>999.000000</td>\n",
       "      <td>1.0</td>\n",
       "      <td>37</td>\n",
       "    </tr>\n",
       "    <tr>\n",
       "      <th>1</th>\n",
       "      <td>03.01.2013</td>\n",
       "      <td>0</td>\n",
       "      <td>25</td>\n",
       "      <td>2552</td>\n",
       "      <td>899.000000</td>\n",
       "      <td>1.0</td>\n",
       "      <td>2013-01-03</td>\n",
       "      <td>03</td>\n",
       "      <td>01</td>\n",
       "      <td>2013</td>\n",
       "      <td>899.000000</td>\n",
       "      <td>0.0</td>\n",
       "      <td>58</td>\n",
       "    </tr>\n",
       "    <tr>\n",
       "      <th>2</th>\n",
       "      <td>05.01.2013</td>\n",
       "      <td>0</td>\n",
       "      <td>25</td>\n",
       "      <td>2552</td>\n",
       "      <td>899.000000</td>\n",
       "      <td>-1.0</td>\n",
       "      <td>2013-01-05</td>\n",
       "      <td>05</td>\n",
       "      <td>01</td>\n",
       "      <td>2013</td>\n",
       "      <td>-899.000000</td>\n",
       "      <td>0.0</td>\n",
       "      <td>58</td>\n",
       "    </tr>\n",
       "    <tr>\n",
       "      <th>3</th>\n",
       "      <td>06.01.2013</td>\n",
       "      <td>0</td>\n",
       "      <td>25</td>\n",
       "      <td>2554</td>\n",
       "      <td>1709.050049</td>\n",
       "      <td>1.0</td>\n",
       "      <td>2013-01-06</td>\n",
       "      <td>06</td>\n",
       "      <td>01</td>\n",
       "      <td>2013</td>\n",
       "      <td>1709.050049</td>\n",
       "      <td>1.0</td>\n",
       "      <td>58</td>\n",
       "    </tr>\n",
       "    <tr>\n",
       "      <th>4</th>\n",
       "      <td>15.01.2013</td>\n",
       "      <td>0</td>\n",
       "      <td>25</td>\n",
       "      <td>2555</td>\n",
       "      <td>1099.000000</td>\n",
       "      <td>1.0</td>\n",
       "      <td>2013-01-15</td>\n",
       "      <td>15</td>\n",
       "      <td>01</td>\n",
       "      <td>2013</td>\n",
       "      <td>1099.000000</td>\n",
       "      <td>1.0</td>\n",
       "      <td>56</td>\n",
       "    </tr>\n",
       "  </tbody>\n",
       "</table>\n",
       "</div>"
      ],
      "text/plain": [
       "         date  date_block_num  shop_id  item_id   item_price  item_cnt_day  \\\n",
       "0  02.01.2013               0       59    22154   999.000000           1.0   \n",
       "1  03.01.2013               0       25     2552   899.000000           1.0   \n",
       "2  05.01.2013               0       25     2552   899.000000          -1.0   \n",
       "3  06.01.2013               0       25     2554  1709.050049           1.0   \n",
       "4  15.01.2013               0       25     2555  1099.000000           1.0   \n",
       "\n",
       "  date_formatted day month  year  item_sale_day  target  item_category_id  \n",
       "0     2013-01-02  02    01  2013     999.000000     1.0                37  \n",
       "1     2013-01-03  03    01  2013     899.000000     0.0                58  \n",
       "2     2013-01-05  05    01  2013    -899.000000     0.0                58  \n",
       "3     2013-01-06  06    01  2013    1709.050049     1.0                58  \n",
       "4     2013-01-15  15    01  2013    1099.000000     1.0                56  "
      ]
     },
     "execution_count": 25,
     "metadata": {},
     "output_type": "execute_result"
    }
   ],
   "source": [
    "transactions = transactions.join(items[['item_id', 'item_category_id']].set_index('item_id'), on='item_id')\n",
    "transactions.head()"
   ]
  },
  {
   "cell_type": "markdown",
   "metadata": {},
   "source": [
    "### Count of Records, shops, items, item categories ove monthly buckets."
   ]
  },
  {
   "cell_type": "code",
   "execution_count": 26,
   "metadata": {
    "scrolled": true
   },
   "outputs": [
    {
     "name": "stdout",
     "output_type": "stream",
     "text": [
      "['shop_id_count_month', 'shop_id_sale_month', 'item_id_count_month', 'item_id_sale_month', 'item_category_id_count_month', 'item_category_id_sale_month']\n"
     ]
    },
    {
     "data": {
      "text/html": [
       "<div>\n",
       "<style scoped>\n",
       "    .dataframe tbody tr th:only-of-type {\n",
       "        vertical-align: middle;\n",
       "    }\n",
       "\n",
       "    .dataframe tbody tr th {\n",
       "        vertical-align: top;\n",
       "    }\n",
       "\n",
       "    .dataframe thead th {\n",
       "        text-align: right;\n",
       "    }\n",
       "</style>\n",
       "<table border=\"1\" class=\"dataframe\">\n",
       "  <thead>\n",
       "    <tr style=\"text-align: right;\">\n",
       "      <th></th>\n",
       "      <th>date</th>\n",
       "      <th>date_block_num</th>\n",
       "      <th>shop_id</th>\n",
       "      <th>item_id</th>\n",
       "      <th>item_price</th>\n",
       "      <th>item_cnt_day</th>\n",
       "      <th>date_formatted</th>\n",
       "      <th>day</th>\n",
       "      <th>month</th>\n",
       "      <th>year</th>\n",
       "      <th>item_sale_day</th>\n",
       "      <th>target</th>\n",
       "      <th>item_category_id</th>\n",
       "      <th>shop_id_count_month</th>\n",
       "      <th>shop_id_sale_month</th>\n",
       "      <th>item_id_count_month</th>\n",
       "      <th>item_id_sale_month</th>\n",
       "      <th>item_category_id_count_month</th>\n",
       "      <th>item_category_id_sale_month</th>\n",
       "    </tr>\n",
       "  </thead>\n",
       "  <tbody>\n",
       "    <tr>\n",
       "      <th>0</th>\n",
       "      <td>02.01.2013</td>\n",
       "      <td>0</td>\n",
       "      <td>59</td>\n",
       "      <td>22154</td>\n",
       "      <td>999.000000</td>\n",
       "      <td>1.0</td>\n",
       "      <td>2013-01-02</td>\n",
       "      <td>02</td>\n",
       "      <td>01</td>\n",
       "      <td>2013</td>\n",
       "      <td>999.000000</td>\n",
       "      <td>1.0</td>\n",
       "      <td>37</td>\n",
       "      <td>2017.0</td>\n",
       "      <td>1633431.0</td>\n",
       "      <td>18.0</td>\n",
       "      <td>17982.000000</td>\n",
       "      <td>6094.0</td>\n",
       "      <td>2.845050e+06</td>\n",
       "    </tr>\n",
       "    <tr>\n",
       "      <th>1</th>\n",
       "      <td>03.01.2013</td>\n",
       "      <td>0</td>\n",
       "      <td>25</td>\n",
       "      <td>2552</td>\n",
       "      <td>899.000000</td>\n",
       "      <td>1.0</td>\n",
       "      <td>2013-01-03</td>\n",
       "      <td>03</td>\n",
       "      <td>01</td>\n",
       "      <td>2013</td>\n",
       "      <td>899.000000</td>\n",
       "      <td>0.0</td>\n",
       "      <td>58</td>\n",
       "      <td>8215.0</td>\n",
       "      <td>5376478.0</td>\n",
       "      <td>0.0</td>\n",
       "      <td>0.000000</td>\n",
       "      <td>287.0</td>\n",
       "      <td>4.059590e+05</td>\n",
       "    </tr>\n",
       "    <tr>\n",
       "      <th>2</th>\n",
       "      <td>05.01.2013</td>\n",
       "      <td>0</td>\n",
       "      <td>25</td>\n",
       "      <td>2552</td>\n",
       "      <td>899.000000</td>\n",
       "      <td>-1.0</td>\n",
       "      <td>2013-01-05</td>\n",
       "      <td>05</td>\n",
       "      <td>01</td>\n",
       "      <td>2013</td>\n",
       "      <td>-899.000000</td>\n",
       "      <td>0.0</td>\n",
       "      <td>58</td>\n",
       "      <td>8215.0</td>\n",
       "      <td>5376478.0</td>\n",
       "      <td>0.0</td>\n",
       "      <td>0.000000</td>\n",
       "      <td>287.0</td>\n",
       "      <td>4.059590e+05</td>\n",
       "    </tr>\n",
       "    <tr>\n",
       "      <th>3</th>\n",
       "      <td>06.01.2013</td>\n",
       "      <td>0</td>\n",
       "      <td>25</td>\n",
       "      <td>2554</td>\n",
       "      <td>1709.050049</td>\n",
       "      <td>1.0</td>\n",
       "      <td>2013-01-06</td>\n",
       "      <td>06</td>\n",
       "      <td>01</td>\n",
       "      <td>2013</td>\n",
       "      <td>1709.050049</td>\n",
       "      <td>1.0</td>\n",
       "      <td>58</td>\n",
       "      <td>8215.0</td>\n",
       "      <td>5376478.0</td>\n",
       "      <td>1.0</td>\n",
       "      <td>1709.050049</td>\n",
       "      <td>287.0</td>\n",
       "      <td>4.059590e+05</td>\n",
       "    </tr>\n",
       "    <tr>\n",
       "      <th>4</th>\n",
       "      <td>15.01.2013</td>\n",
       "      <td>0</td>\n",
       "      <td>25</td>\n",
       "      <td>2555</td>\n",
       "      <td>1099.000000</td>\n",
       "      <td>1.0</td>\n",
       "      <td>2013-01-15</td>\n",
       "      <td>15</td>\n",
       "      <td>01</td>\n",
       "      <td>2013</td>\n",
       "      <td>1099.000000</td>\n",
       "      <td>1.0</td>\n",
       "      <td>56</td>\n",
       "      <td>8215.0</td>\n",
       "      <td>5376478.0</td>\n",
       "      <td>2.0</td>\n",
       "      <td>2197.699951</td>\n",
       "      <td>268.0</td>\n",
       "      <td>2.331889e+05</td>\n",
       "    </tr>\n",
       "  </tbody>\n",
       "</table>\n",
       "</div>"
      ],
      "text/plain": [
       "         date  date_block_num  shop_id  item_id   item_price  item_cnt_day  \\\n",
       "0  02.01.2013               0       59    22154   999.000000           1.0   \n",
       "1  03.01.2013               0       25     2552   899.000000           1.0   \n",
       "2  05.01.2013               0       25     2552   899.000000          -1.0   \n",
       "3  06.01.2013               0       25     2554  1709.050049           1.0   \n",
       "4  15.01.2013               0       25     2555  1099.000000           1.0   \n",
       "\n",
       "  date_formatted day month  year  item_sale_day  target  item_category_id  \\\n",
       "0     2013-01-02  02    01  2013     999.000000     1.0                37   \n",
       "1     2013-01-03  03    01  2013     899.000000     0.0                58   \n",
       "2     2013-01-05  05    01  2013    -899.000000     0.0                58   \n",
       "3     2013-01-06  06    01  2013    1709.050049     1.0                58   \n",
       "4     2013-01-15  15    01  2013    1099.000000     1.0                56   \n",
       "\n",
       "   shop_id_count_month  shop_id_sale_month  item_id_count_month  \\\n",
       "0               2017.0           1633431.0                 18.0   \n",
       "1               8215.0           5376478.0                  0.0   \n",
       "2               8215.0           5376478.0                  0.0   \n",
       "3               8215.0           5376478.0                  1.0   \n",
       "4               8215.0           5376478.0                  2.0   \n",
       "\n",
       "   item_id_sale_month  item_category_id_count_month  \\\n",
       "0        17982.000000                        6094.0   \n",
       "1            0.000000                         287.0   \n",
       "2            0.000000                         287.0   \n",
       "3         1709.050049                         287.0   \n",
       "4         2197.699951                         268.0   \n",
       "\n",
       "   item_category_id_sale_month  \n",
       "0                 2.845050e+06  \n",
       "1                 4.059590e+05  \n",
       "2                 4.059590e+05  \n",
       "3                 4.059590e+05  \n",
       "4                 2.331889e+05  "
      ]
     },
     "execution_count": 26,
     "metadata": {},
     "output_type": "execute_result"
    }
   ],
   "source": [
    "col_names = ['shop_id', 'item_id', 'item_category_id']\n",
    "bucket_col_names = {'date_block_num': 'month'}\n",
    "\n",
    "lagged_feature_names = list()\n",
    "\n",
    "for col_name in col_names:\n",
    "    for bucket_col_name in bucket_col_names.keys():\n",
    "        grouped = transactions[[col_name, bucket_col_name, \"item_cnt_day\", \"item_sale_day\"]].groupby([col_name, bucket_col_name])\n",
    "        \n",
    "        column_name_map = {\n",
    "            'item_cnt_day': col_name + \"_count_\" + bucket_col_names[bucket_col_name],\n",
    "            'item_sale_day': col_name + \"_sale_\" + bucket_col_names[bucket_col_name]\n",
    "        }\n",
    "        lagged_feature_names.extend(column_name_map.values())\n",
    "        transactions_ = grouped.sum().rename(column_name_map, axis='columns')\n",
    "        transactions = transactions.join(transactions_, on=[col_name, bucket_col_name])\n",
    "        \n",
    "print(lagged_feature_names)\n",
    "transactions.head()"
   ]
  },
  {
   "cell_type": "markdown",
   "metadata": {},
   "source": [
    "### Price Stats of Items"
   ]
  },
  {
   "cell_type": "code",
   "execution_count": 27,
   "metadata": {},
   "outputs": [
    {
     "data": {
      "text/html": [
       "<div>\n",
       "<style scoped>\n",
       "    .dataframe tbody tr th:only-of-type {\n",
       "        vertical-align: middle;\n",
       "    }\n",
       "\n",
       "    .dataframe tbody tr th {\n",
       "        vertical-align: top;\n",
       "    }\n",
       "\n",
       "    .dataframe thead th {\n",
       "        text-align: right;\n",
       "    }\n",
       "</style>\n",
       "<table border=\"1\" class=\"dataframe\">\n",
       "  <thead>\n",
       "    <tr style=\"text-align: right;\">\n",
       "      <th></th>\n",
       "      <th>date</th>\n",
       "      <th>date_block_num</th>\n",
       "      <th>shop_id</th>\n",
       "      <th>item_id</th>\n",
       "      <th>item_price</th>\n",
       "      <th>item_cnt_day</th>\n",
       "      <th>date_formatted</th>\n",
       "      <th>day</th>\n",
       "      <th>month</th>\n",
       "      <th>year</th>\n",
       "      <th>...</th>\n",
       "      <th>target</th>\n",
       "      <th>item_category_id</th>\n",
       "      <th>shop_id_count_month</th>\n",
       "      <th>shop_id_sale_month</th>\n",
       "      <th>item_id_count_month</th>\n",
       "      <th>item_id_sale_month</th>\n",
       "      <th>item_category_id_count_month</th>\n",
       "      <th>item_category_id_sale_month</th>\n",
       "      <th>item_price_mean_month</th>\n",
       "      <th>item_price_std_month</th>\n",
       "    </tr>\n",
       "  </thead>\n",
       "  <tbody>\n",
       "    <tr>\n",
       "      <th>0</th>\n",
       "      <td>02.01.2013</td>\n",
       "      <td>0</td>\n",
       "      <td>59</td>\n",
       "      <td>22154</td>\n",
       "      <td>999.000000</td>\n",
       "      <td>1.0</td>\n",
       "      <td>2013-01-02</td>\n",
       "      <td>02</td>\n",
       "      <td>01</td>\n",
       "      <td>2013</td>\n",
       "      <td>...</td>\n",
       "      <td>1.0</td>\n",
       "      <td>37</td>\n",
       "      <td>2017.0</td>\n",
       "      <td>1633431.0</td>\n",
       "      <td>18.0</td>\n",
       "      <td>17982.000000</td>\n",
       "      <td>6094.0</td>\n",
       "      <td>2.845050e+06</td>\n",
       "      <td>999.000000</td>\n",
       "      <td>0.0</td>\n",
       "    </tr>\n",
       "    <tr>\n",
       "      <th>1</th>\n",
       "      <td>03.01.2013</td>\n",
       "      <td>0</td>\n",
       "      <td>25</td>\n",
       "      <td>2552</td>\n",
       "      <td>899.000000</td>\n",
       "      <td>1.0</td>\n",
       "      <td>2013-01-03</td>\n",
       "      <td>03</td>\n",
       "      <td>01</td>\n",
       "      <td>2013</td>\n",
       "      <td>...</td>\n",
       "      <td>0.0</td>\n",
       "      <td>58</td>\n",
       "      <td>8215.0</td>\n",
       "      <td>5376478.0</td>\n",
       "      <td>0.0</td>\n",
       "      <td>0.000000</td>\n",
       "      <td>287.0</td>\n",
       "      <td>4.059590e+05</td>\n",
       "      <td>899.000000</td>\n",
       "      <td>0.0</td>\n",
       "    </tr>\n",
       "    <tr>\n",
       "      <th>2</th>\n",
       "      <td>05.01.2013</td>\n",
       "      <td>0</td>\n",
       "      <td>25</td>\n",
       "      <td>2552</td>\n",
       "      <td>899.000000</td>\n",
       "      <td>-1.0</td>\n",
       "      <td>2013-01-05</td>\n",
       "      <td>05</td>\n",
       "      <td>01</td>\n",
       "      <td>2013</td>\n",
       "      <td>...</td>\n",
       "      <td>0.0</td>\n",
       "      <td>58</td>\n",
       "      <td>8215.0</td>\n",
       "      <td>5376478.0</td>\n",
       "      <td>0.0</td>\n",
       "      <td>0.000000</td>\n",
       "      <td>287.0</td>\n",
       "      <td>4.059590e+05</td>\n",
       "      <td>899.000000</td>\n",
       "      <td>0.0</td>\n",
       "    </tr>\n",
       "    <tr>\n",
       "      <th>3</th>\n",
       "      <td>06.01.2013</td>\n",
       "      <td>0</td>\n",
       "      <td>25</td>\n",
       "      <td>2554</td>\n",
       "      <td>1709.050049</td>\n",
       "      <td>1.0</td>\n",
       "      <td>2013-01-06</td>\n",
       "      <td>06</td>\n",
       "      <td>01</td>\n",
       "      <td>2013</td>\n",
       "      <td>...</td>\n",
       "      <td>1.0</td>\n",
       "      <td>58</td>\n",
       "      <td>8215.0</td>\n",
       "      <td>5376478.0</td>\n",
       "      <td>1.0</td>\n",
       "      <td>1709.050049</td>\n",
       "      <td>287.0</td>\n",
       "      <td>4.059590e+05</td>\n",
       "      <td>1709.050049</td>\n",
       "      <td>0.0</td>\n",
       "    </tr>\n",
       "    <tr>\n",
       "      <th>4</th>\n",
       "      <td>15.01.2013</td>\n",
       "      <td>0</td>\n",
       "      <td>25</td>\n",
       "      <td>2555</td>\n",
       "      <td>1099.000000</td>\n",
       "      <td>1.0</td>\n",
       "      <td>2013-01-15</td>\n",
       "      <td>15</td>\n",
       "      <td>01</td>\n",
       "      <td>2013</td>\n",
       "      <td>...</td>\n",
       "      <td>1.0</td>\n",
       "      <td>56</td>\n",
       "      <td>8215.0</td>\n",
       "      <td>5376478.0</td>\n",
       "      <td>2.0</td>\n",
       "      <td>2197.699951</td>\n",
       "      <td>268.0</td>\n",
       "      <td>2.331889e+05</td>\n",
       "      <td>1099.000000</td>\n",
       "      <td>0.0</td>\n",
       "    </tr>\n",
       "  </tbody>\n",
       "</table>\n",
       "<p>5 rows × 21 columns</p>\n",
       "</div>"
      ],
      "text/plain": [
       "         date  date_block_num  shop_id  item_id   item_price  item_cnt_day  \\\n",
       "0  02.01.2013               0       59    22154   999.000000           1.0   \n",
       "1  03.01.2013               0       25     2552   899.000000           1.0   \n",
       "2  05.01.2013               0       25     2552   899.000000          -1.0   \n",
       "3  06.01.2013               0       25     2554  1709.050049           1.0   \n",
       "4  15.01.2013               0       25     2555  1099.000000           1.0   \n",
       "\n",
       "  date_formatted day month  year          ...           target  \\\n",
       "0     2013-01-02  02    01  2013          ...              1.0   \n",
       "1     2013-01-03  03    01  2013          ...              0.0   \n",
       "2     2013-01-05  05    01  2013          ...              0.0   \n",
       "3     2013-01-06  06    01  2013          ...              1.0   \n",
       "4     2013-01-15  15    01  2013          ...              1.0   \n",
       "\n",
       "   item_category_id  shop_id_count_month  shop_id_sale_month  \\\n",
       "0                37               2017.0           1633431.0   \n",
       "1                58               8215.0           5376478.0   \n",
       "2                58               8215.0           5376478.0   \n",
       "3                58               8215.0           5376478.0   \n",
       "4                56               8215.0           5376478.0   \n",
       "\n",
       "   item_id_count_month  item_id_sale_month  item_category_id_count_month  \\\n",
       "0                 18.0        17982.000000                        6094.0   \n",
       "1                  0.0            0.000000                         287.0   \n",
       "2                  0.0            0.000000                         287.0   \n",
       "3                  1.0         1709.050049                         287.0   \n",
       "4                  2.0         2197.699951                         268.0   \n",
       "\n",
       "   item_category_id_sale_month  item_price_mean_month  item_price_std_month  \n",
       "0                 2.845050e+06             999.000000                   0.0  \n",
       "1                 4.059590e+05             899.000000                   0.0  \n",
       "2                 4.059590e+05             899.000000                   0.0  \n",
       "3                 4.059590e+05            1709.050049                   0.0  \n",
       "4                 2.331889e+05            1099.000000                   0.0  \n",
       "\n",
       "[5 rows x 21 columns]"
      ]
     },
     "execution_count": 27,
     "metadata": {},
     "output_type": "execute_result"
    }
   ],
   "source": [
    "grouped = transactions[col_names + ['date_block_num', \"item_price\"]].groupby(col_names + ['date_block_num'])\n",
    "        \n",
    "lagged_feature_names.append('item_price_mean_month')\n",
    "lagged_feature_names.append('item_price_std_month')\n",
    "\n",
    "transactions_ = grouped.mean().rename({'item_price': 'item_price_mean_month'}, axis='columns')\n",
    "transactions = transactions.join(transactions_, on=col_names + ['date_block_num'])\n",
    "\n",
    "transactions_ = grouped.std().rename({'item_price': 'item_price_std_month'}, axis='columns').fillna(0)\n",
    "transactions = transactions.join(transactions_, on=col_names + ['date_block_num'])\n",
    "\n",
    "transactions.head()"
   ]
  },
  {
   "cell_type": "markdown",
   "metadata": {},
   "source": [
    "### Stats of Items sales and counts"
   ]
  },
  {
   "cell_type": "code",
   "execution_count": 28,
   "metadata": {},
   "outputs": [
    {
     "data": {
      "text/html": [
       "<div>\n",
       "<style scoped>\n",
       "    .dataframe tbody tr th:only-of-type {\n",
       "        vertical-align: middle;\n",
       "    }\n",
       "\n",
       "    .dataframe tbody tr th {\n",
       "        vertical-align: top;\n",
       "    }\n",
       "\n",
       "    .dataframe thead th {\n",
       "        text-align: right;\n",
       "    }\n",
       "</style>\n",
       "<table border=\"1\" class=\"dataframe\">\n",
       "  <thead>\n",
       "    <tr style=\"text-align: right;\">\n",
       "      <th></th>\n",
       "      <th>date</th>\n",
       "      <th>date_block_num</th>\n",
       "      <th>shop_id</th>\n",
       "      <th>item_id</th>\n",
       "      <th>item_price</th>\n",
       "      <th>item_cnt_day</th>\n",
       "      <th>date_formatted</th>\n",
       "      <th>day</th>\n",
       "      <th>month</th>\n",
       "      <th>year</th>\n",
       "      <th>...</th>\n",
       "      <th>item_id_count_month</th>\n",
       "      <th>item_id_sale_month</th>\n",
       "      <th>item_category_id_count_month</th>\n",
       "      <th>item_category_id_sale_month</th>\n",
       "      <th>item_price_mean_month</th>\n",
       "      <th>item_price_std_month</th>\n",
       "      <th>item_shop_cnt_sum_month</th>\n",
       "      <th>item_shop_sale_sum_month</th>\n",
       "      <th>item_shop_cnt_std_month</th>\n",
       "      <th>item_shop_sale_std_month</th>\n",
       "    </tr>\n",
       "  </thead>\n",
       "  <tbody>\n",
       "    <tr>\n",
       "      <th>0</th>\n",
       "      <td>02.01.2013</td>\n",
       "      <td>0</td>\n",
       "      <td>59</td>\n",
       "      <td>22154</td>\n",
       "      <td>999.000000</td>\n",
       "      <td>1.0</td>\n",
       "      <td>2013-01-02</td>\n",
       "      <td>02</td>\n",
       "      <td>01</td>\n",
       "      <td>2013</td>\n",
       "      <td>...</td>\n",
       "      <td>18.0</td>\n",
       "      <td>17982.000000</td>\n",
       "      <td>6094.0</td>\n",
       "      <td>2.845050e+06</td>\n",
       "      <td>999.000000</td>\n",
       "      <td>0.0</td>\n",
       "      <td>1.0</td>\n",
       "      <td>999.000000</td>\n",
       "      <td>0.000000</td>\n",
       "      <td>0.000000</td>\n",
       "    </tr>\n",
       "    <tr>\n",
       "      <th>1</th>\n",
       "      <td>03.01.2013</td>\n",
       "      <td>0</td>\n",
       "      <td>25</td>\n",
       "      <td>2552</td>\n",
       "      <td>899.000000</td>\n",
       "      <td>1.0</td>\n",
       "      <td>2013-01-03</td>\n",
       "      <td>03</td>\n",
       "      <td>01</td>\n",
       "      <td>2013</td>\n",
       "      <td>...</td>\n",
       "      <td>0.0</td>\n",
       "      <td>0.000000</td>\n",
       "      <td>287.0</td>\n",
       "      <td>4.059590e+05</td>\n",
       "      <td>899.000000</td>\n",
       "      <td>0.0</td>\n",
       "      <td>0.0</td>\n",
       "      <td>0.000000</td>\n",
       "      <td>1.414214</td>\n",
       "      <td>1271.378052</td>\n",
       "    </tr>\n",
       "    <tr>\n",
       "      <th>2</th>\n",
       "      <td>05.01.2013</td>\n",
       "      <td>0</td>\n",
       "      <td>25</td>\n",
       "      <td>2552</td>\n",
       "      <td>899.000000</td>\n",
       "      <td>-1.0</td>\n",
       "      <td>2013-01-05</td>\n",
       "      <td>05</td>\n",
       "      <td>01</td>\n",
       "      <td>2013</td>\n",
       "      <td>...</td>\n",
       "      <td>0.0</td>\n",
       "      <td>0.000000</td>\n",
       "      <td>287.0</td>\n",
       "      <td>4.059590e+05</td>\n",
       "      <td>899.000000</td>\n",
       "      <td>0.0</td>\n",
       "      <td>0.0</td>\n",
       "      <td>0.000000</td>\n",
       "      <td>1.414214</td>\n",
       "      <td>1271.378052</td>\n",
       "    </tr>\n",
       "    <tr>\n",
       "      <th>3</th>\n",
       "      <td>06.01.2013</td>\n",
       "      <td>0</td>\n",
       "      <td>25</td>\n",
       "      <td>2554</td>\n",
       "      <td>1709.050049</td>\n",
       "      <td>1.0</td>\n",
       "      <td>2013-01-06</td>\n",
       "      <td>06</td>\n",
       "      <td>01</td>\n",
       "      <td>2013</td>\n",
       "      <td>...</td>\n",
       "      <td>1.0</td>\n",
       "      <td>1709.050049</td>\n",
       "      <td>287.0</td>\n",
       "      <td>4.059590e+05</td>\n",
       "      <td>1709.050049</td>\n",
       "      <td>0.0</td>\n",
       "      <td>1.0</td>\n",
       "      <td>1709.050049</td>\n",
       "      <td>0.000000</td>\n",
       "      <td>0.000000</td>\n",
       "    </tr>\n",
       "    <tr>\n",
       "      <th>4</th>\n",
       "      <td>15.01.2013</td>\n",
       "      <td>0</td>\n",
       "      <td>25</td>\n",
       "      <td>2555</td>\n",
       "      <td>1099.000000</td>\n",
       "      <td>1.0</td>\n",
       "      <td>2013-01-15</td>\n",
       "      <td>15</td>\n",
       "      <td>01</td>\n",
       "      <td>2013</td>\n",
       "      <td>...</td>\n",
       "      <td>2.0</td>\n",
       "      <td>2197.699951</td>\n",
       "      <td>268.0</td>\n",
       "      <td>2.331889e+05</td>\n",
       "      <td>1099.000000</td>\n",
       "      <td>0.0</td>\n",
       "      <td>1.0</td>\n",
       "      <td>1099.000000</td>\n",
       "      <td>0.000000</td>\n",
       "      <td>0.000000</td>\n",
       "    </tr>\n",
       "  </tbody>\n",
       "</table>\n",
       "<p>5 rows × 25 columns</p>\n",
       "</div>"
      ],
      "text/plain": [
       "         date  date_block_num  shop_id  item_id   item_price  item_cnt_day  \\\n",
       "0  02.01.2013               0       59    22154   999.000000           1.0   \n",
       "1  03.01.2013               0       25     2552   899.000000           1.0   \n",
       "2  05.01.2013               0       25     2552   899.000000          -1.0   \n",
       "3  06.01.2013               0       25     2554  1709.050049           1.0   \n",
       "4  15.01.2013               0       25     2555  1099.000000           1.0   \n",
       "\n",
       "  date_formatted day month  year            ...             \\\n",
       "0     2013-01-02  02    01  2013            ...              \n",
       "1     2013-01-03  03    01  2013            ...              \n",
       "2     2013-01-05  05    01  2013            ...              \n",
       "3     2013-01-06  06    01  2013            ...              \n",
       "4     2013-01-15  15    01  2013            ...              \n",
       "\n",
       "   item_id_count_month  item_id_sale_month  item_category_id_count_month  \\\n",
       "0                 18.0        17982.000000                        6094.0   \n",
       "1                  0.0            0.000000                         287.0   \n",
       "2                  0.0            0.000000                         287.0   \n",
       "3                  1.0         1709.050049                         287.0   \n",
       "4                  2.0         2197.699951                         268.0   \n",
       "\n",
       "   item_category_id_sale_month  item_price_mean_month  item_price_std_month  \\\n",
       "0                 2.845050e+06             999.000000                   0.0   \n",
       "1                 4.059590e+05             899.000000                   0.0   \n",
       "2                 4.059590e+05             899.000000                   0.0   \n",
       "3                 4.059590e+05            1709.050049                   0.0   \n",
       "4                 2.331889e+05            1099.000000                   0.0   \n",
       "\n",
       "   item_shop_cnt_sum_month  item_shop_sale_sum_month  item_shop_cnt_std_month  \\\n",
       "0                      1.0                999.000000                 0.000000   \n",
       "1                      0.0                  0.000000                 1.414214   \n",
       "2                      0.0                  0.000000                 1.414214   \n",
       "3                      1.0               1709.050049                 0.000000   \n",
       "4                      1.0               1099.000000                 0.000000   \n",
       "\n",
       "   item_shop_sale_std_month  \n",
       "0                  0.000000  \n",
       "1               1271.378052  \n",
       "2               1271.378052  \n",
       "3                  0.000000  \n",
       "4                  0.000000  \n",
       "\n",
       "[5 rows x 25 columns]"
      ]
     },
     "execution_count": 28,
     "metadata": {},
     "output_type": "execute_result"
    }
   ],
   "source": [
    "grouped = transactions[col_names + ['date_block_num', \"item_cnt_day\", \"item_sale_day\"]].groupby(col_names + ['date_block_num'])\n",
    "        \n",
    "lagged_feature_names.extend(['item_shop_cnt_sum_month', 'item_shop_cnt_std_month', \"item_shop_sale_sum_month\", \"item_shop_sale_std_month\"])\n",
    "\n",
    "column_name_map = {\n",
    "    'item_cnt_day': 'item_shop_cnt_sum_month',\n",
    "    'item_sale_day': \"item_shop_sale_sum_month\"\n",
    "}\n",
    "transactions_ = grouped.sum().rename(column_name_map, axis='columns')\n",
    "transactions = transactions.join(transactions_, on=col_names + ['date_block_num'])\n",
    "\n",
    "column_name_map = {\n",
    "    'item_cnt_day': 'item_shop_cnt_std_month',\n",
    "    'item_sale_day': \"item_shop_sale_std_month\"\n",
    "}\n",
    "transactions_ = grouped.std().rename(column_name_map, axis='columns').fillna(0)\n",
    "transactions = transactions.join(transactions_, on=col_names + ['date_block_num'])\n",
    "\n",
    "transactions.head()"
   ]
  },
  {
   "cell_type": "code",
   "execution_count": 29,
   "metadata": {},
   "outputs": [],
   "source": [
    "del transactions_, bucket_col_names, grouped\n",
    "gc.collect();"
   ]
  },
  {
   "cell_type": "markdown",
   "metadata": {},
   "source": [
    "### Lagged Count of Shops, items, item categories over monthly buckets"
   ]
  },
  {
   "cell_type": "code",
   "execution_count": 30,
   "metadata": {},
   "outputs": [
    {
     "data": {
      "application/vnd.jupyter.widget-view+json": {
       "model_id": "afc4667d244a4a0da51a2ff55228943f",
       "version_major": 2,
       "version_minor": 0
      },
      "text/plain": [
       "HBox(children=(IntProgress(value=0, max=60), HTML(value='')))"
      ]
     },
     "metadata": {},
     "output_type": "display_data"
    },
    {
     "name": "stdout",
     "output_type": "stream",
     "text": [
      "\n"
     ]
    },
    {
     "data": {
      "text/plain": [
       "8"
      ]
     },
     "execution_count": 30,
     "metadata": {},
     "output_type": "execute_result"
    }
   ],
   "source": [
    "shift_range = [1, 2, 3, 4, 5, 6, 12]\n",
    "index_col_names = col_names + ['date_block_num']\n",
    "\n",
    "transactions = downcast_dtypes(transactions)\n",
    "\n",
    "## transactions data is too large, we generate lagged features by small batch.\n",
    "## split transactions data into small chunks by data_block_num\n",
    "## and process each chunk separately\n",
    "\n",
    "shop_ids = transactions['shop_id'].drop_duplicates().values.tolist()\n",
    "\n",
    "is_first_chunk = True\n",
    "\n",
    "for shop_id in tn(shop_ids):\n",
    "    chunked = transactions[transactions['shop_id'] == shop_id].copy()\n",
    "    \n",
    "    for shift in shift_range:\n",
    "        tran_shift = chunked[index_col_names + lagged_feature_names].copy()\n",
    "        tran_shift.drop_duplicates(subset=index_col_names, inplace=True)\n",
    "        \n",
    "        tran_shift['date_block_num'] = tran_shift['date_block_num'] + shift\n",
    "    \n",
    "        foo = lambda x: '{}_lag_{}'.format(x, shift) if x in lagged_feature_names else x\n",
    "        tran_shift = tran_shift.rename(columns=foo)\n",
    "        \n",
    "        # Don't use old data from year 2013\n",
    "        chunked = chunked[chunked['date_block_num'] >= 12] \n",
    "        # Don't use data beyond 34 date_block_num\n",
    "        tran_shift = tran_shift[(tran_shift['date_block_num'] <= 34) & (tran_shift['date_block_num'] >= 12)] \n",
    "        \n",
    "        tran_shift.set_index(index_col_names, inplace=True)\n",
    "        chunked.set_index(index_col_names, inplace=True)\n",
    "\n",
    "        chunked = chunked.join(tran_shift, how='left') \n",
    "        chunked.reset_index(inplace=True)\n",
    "        gc.collect()\n",
    "        # print(chunked.columns)\n",
    "    \n",
    "    if chunked.shape[0] == 0:\n",
    "        continue;\n",
    "    append_save_file(chunked, train_transactions_path, is_first_chunk)\n",
    "    is_first_chunk = False\n",
    "        \n",
    "del tran_shift, chunked, is_first_chunk, transactions\n",
    "gc.collect()"
   ]
  },
  {
   "cell_type": "markdown",
   "metadata": {},
   "source": [
    "## Prepare Train and Test Data"
   ]
  },
  {
   "cell_type": "code",
   "execution_count": 31,
   "metadata": {},
   "outputs": [
    {
     "name": "stdout",
     "output_type": "stream",
     "text": [
      "['shop_id', 'item_id', 'item_category_id', 'date_block_num', 'date', 'item_price', 'item_cnt_day', 'date_formatted', 'day', 'month', 'year', 'item_sale_day', 'target', 'shop_id_count_month', 'shop_id_sale_month', 'item_id_count_month', 'item_id_sale_month', 'item_category_id_count_month', 'item_category_id_sale_month', 'item_price_mean_month', 'item_price_std_month', 'item_shop_cnt_sum_month', 'item_shop_sale_sum_month', 'item_shop_cnt_std_month', 'item_shop_sale_std_month', 'shop_id_count_month_lag_1', 'shop_id_sale_month_lag_1', 'item_id_count_month_lag_1', 'item_id_sale_month_lag_1', 'item_category_id_count_month_lag_1', 'item_category_id_sale_month_lag_1', 'item_price_mean_month_lag_1', 'item_price_std_month_lag_1', 'item_shop_cnt_sum_month_lag_1', 'item_shop_cnt_std_month_lag_1', 'item_shop_sale_sum_month_lag_1', 'item_shop_sale_std_month_lag_1', 'shop_id_count_month_lag_2', 'shop_id_sale_month_lag_2', 'item_id_count_month_lag_2', 'item_id_sale_month_lag_2', 'item_category_id_count_month_lag_2', 'item_category_id_sale_month_lag_2', 'item_price_mean_month_lag_2', 'item_price_std_month_lag_2', 'item_shop_cnt_sum_month_lag_2', 'item_shop_cnt_std_month_lag_2', 'item_shop_sale_sum_month_lag_2', 'item_shop_sale_std_month_lag_2', 'shop_id_count_month_lag_3', 'shop_id_sale_month_lag_3', 'item_id_count_month_lag_3', 'item_id_sale_month_lag_3', 'item_category_id_count_month_lag_3', 'item_category_id_sale_month_lag_3', 'item_price_mean_month_lag_3', 'item_price_std_month_lag_3', 'item_shop_cnt_sum_month_lag_3', 'item_shop_cnt_std_month_lag_3', 'item_shop_sale_sum_month_lag_3', 'item_shop_sale_std_month_lag_3', 'shop_id_count_month_lag_4', 'shop_id_sale_month_lag_4', 'item_id_count_month_lag_4', 'item_id_sale_month_lag_4', 'item_category_id_count_month_lag_4', 'item_category_id_sale_month_lag_4', 'item_price_mean_month_lag_4', 'item_price_std_month_lag_4', 'item_shop_cnt_sum_month_lag_4', 'item_shop_cnt_std_month_lag_4', 'item_shop_sale_sum_month_lag_4', 'item_shop_sale_std_month_lag_4', 'shop_id_count_month_lag_5', 'shop_id_sale_month_lag_5', 'item_id_count_month_lag_5', 'item_id_sale_month_lag_5', 'item_category_id_count_month_lag_5', 'item_category_id_sale_month_lag_5', 'item_price_mean_month_lag_5', 'item_price_std_month_lag_5', 'item_shop_cnt_sum_month_lag_5', 'item_shop_cnt_std_month_lag_5', 'item_shop_sale_sum_month_lag_5', 'item_shop_sale_std_month_lag_5', 'shop_id_count_month_lag_6', 'shop_id_sale_month_lag_6', 'item_id_count_month_lag_6', 'item_id_sale_month_lag_6', 'item_category_id_count_month_lag_6', 'item_category_id_sale_month_lag_6', 'item_price_mean_month_lag_6', 'item_price_std_month_lag_6', 'item_shop_cnt_sum_month_lag_6', 'item_shop_cnt_std_month_lag_6', 'item_shop_sale_sum_month_lag_6', 'item_shop_sale_std_month_lag_6', 'shop_id_count_month_lag_12', 'shop_id_sale_month_lag_12', 'item_id_count_month_lag_12', 'item_id_sale_month_lag_12', 'item_category_id_count_month_lag_12', 'item_category_id_sale_month_lag_12', 'item_price_mean_month_lag_12', 'item_price_std_month_lag_12', 'item_shop_cnt_sum_month_lag_12', 'item_shop_cnt_std_month_lag_12', 'item_shop_sale_sum_month_lag_12', 'item_shop_sale_std_month_lag_12']\n",
      "\n",
      "\n",
      "(1668287, 109)\n"
     ]
    }
   ],
   "source": [
    "train_data = pd.read_csv(train_transactions_path)\n",
    "train_data = downcast_dtypes(train_data)\n",
    "\n",
    "print(train_data.columns.tolist())\n",
    "print(\"\\n\")\n",
    "print(train_data.shape)"
   ]
  },
  {
   "cell_type": "code",
   "execution_count": 32,
   "metadata": {},
   "outputs": [
    {
     "name": "stdout",
     "output_type": "stream",
     "text": [
      "(921400, 103)\n"
     ]
    },
    {
     "data": {
      "text/plain": [
       "shop_id                                  int32\n",
       "item_id                                  int32\n",
       "item_category_id                         int32\n",
       "date_block_num                           int32\n",
       "item_price                             float32\n",
       "month                                    int32\n",
       "target                                 float32\n",
       "shop_id_count_month                    float32\n",
       "shop_id_sale_month                     float32\n",
       "item_id_count_month                    float32\n",
       "item_id_sale_month                     float32\n",
       "item_category_id_count_month           float32\n",
       "item_category_id_sale_month            float32\n",
       "item_price_mean_month                  float32\n",
       "item_price_std_month                   float32\n",
       "item_shop_cnt_sum_month                float32\n",
       "item_shop_sale_sum_month               float32\n",
       "item_shop_cnt_std_month                float32\n",
       "item_shop_sale_std_month               float32\n",
       "shop_id_count_month_lag_1              float32\n",
       "shop_id_sale_month_lag_1               float32\n",
       "item_id_count_month_lag_1              float32\n",
       "item_id_sale_month_lag_1               float32\n",
       "item_category_id_count_month_lag_1     float32\n",
       "item_category_id_sale_month_lag_1      float32\n",
       "item_price_mean_month_lag_1            float32\n",
       "item_price_std_month_lag_1             float32\n",
       "item_shop_cnt_sum_month_lag_1          float32\n",
       "item_shop_cnt_std_month_lag_1          float32\n",
       "item_shop_sale_sum_month_lag_1         float32\n",
       "                                        ...   \n",
       "item_price_mean_month_lag_5            float32\n",
       "item_price_std_month_lag_5             float32\n",
       "item_shop_cnt_sum_month_lag_5          float32\n",
       "item_shop_cnt_std_month_lag_5          float32\n",
       "item_shop_sale_sum_month_lag_5         float32\n",
       "item_shop_sale_std_month_lag_5         float32\n",
       "shop_id_count_month_lag_6              float32\n",
       "shop_id_sale_month_lag_6               float32\n",
       "item_id_count_month_lag_6              float32\n",
       "item_id_sale_month_lag_6               float32\n",
       "item_category_id_count_month_lag_6     float32\n",
       "item_category_id_sale_month_lag_6      float32\n",
       "item_price_mean_month_lag_6            float32\n",
       "item_price_std_month_lag_6             float32\n",
       "item_shop_cnt_sum_month_lag_6          float32\n",
       "item_shop_cnt_std_month_lag_6          float32\n",
       "item_shop_sale_sum_month_lag_6         float32\n",
       "item_shop_sale_std_month_lag_6         float32\n",
       "shop_id_count_month_lag_12             float32\n",
       "shop_id_sale_month_lag_12              float32\n",
       "item_id_count_month_lag_12             float32\n",
       "item_id_sale_month_lag_12              float32\n",
       "item_category_id_count_month_lag_12    float32\n",
       "item_category_id_sale_month_lag_12     float32\n",
       "item_price_mean_month_lag_12           float32\n",
       "item_price_std_month_lag_12            float32\n",
       "item_shop_cnt_sum_month_lag_12         float32\n",
       "item_shop_cnt_std_month_lag_12         float32\n",
       "item_shop_sale_sum_month_lag_12        float32\n",
       "item_shop_sale_std_month_lag_12        float32\n",
       "Length: 103, dtype: object"
      ]
     },
     "execution_count": 32,
     "metadata": {},
     "output_type": "execute_result"
    }
   ],
   "source": [
    "index_column_names = ['shop_id', 'item_id', 'date_block_num']\n",
    "\n",
    "train_data.drop(columns=['date', 'date_formatted', 'day', 'year', 'item_sale_day', 'item_cnt_day'], inplace=True)\n",
    "train_data.drop_duplicates(subset=index_column_names, inplace=True)\n",
    "\n",
    "train_data = sklearn.utils.shuffle(train_data)\n",
    "\n",
    "print(train_data.shape)\n",
    "train_data.dtypes"
   ]
  },
  {
   "cell_type": "markdown",
   "metadata": {},
   "source": [
    "### Drop Columns"
   ]
  },
  {
   "cell_type": "code",
   "execution_count": 34,
   "metadata": {},
   "outputs": [
    {
     "data": {
      "text/plain": [
       "shop_id                                  int32\n",
       "item_id                                  int32\n",
       "item_category_id                         int32\n",
       "date_block_num                           int32\n",
       "month                                    int32\n",
       "target                                 float32\n",
       "shop_id_count_month_lag_1              float32\n",
       "shop_id_sale_month_lag_1               float32\n",
       "item_id_count_month_lag_1              float32\n",
       "item_id_sale_month_lag_1               float32\n",
       "item_category_id_count_month_lag_1     float32\n",
       "item_category_id_sale_month_lag_1      float32\n",
       "item_price_mean_month_lag_1            float32\n",
       "item_price_std_month_lag_1             float32\n",
       "item_shop_cnt_sum_month_lag_1          float32\n",
       "item_shop_cnt_std_month_lag_1          float32\n",
       "item_shop_sale_sum_month_lag_1         float32\n",
       "item_shop_sale_std_month_lag_1         float32\n",
       "shop_id_count_month_lag_2              float32\n",
       "shop_id_sale_month_lag_2               float32\n",
       "item_id_count_month_lag_2              float32\n",
       "item_id_sale_month_lag_2               float32\n",
       "item_category_id_count_month_lag_2     float32\n",
       "item_category_id_sale_month_lag_2      float32\n",
       "item_price_mean_month_lag_2            float32\n",
       "item_price_std_month_lag_2             float32\n",
       "item_shop_cnt_sum_month_lag_2          float32\n",
       "item_shop_cnt_std_month_lag_2          float32\n",
       "item_shop_sale_sum_month_lag_2         float32\n",
       "item_shop_sale_std_month_lag_2         float32\n",
       "                                        ...   \n",
       "item_price_mean_month_lag_5            float32\n",
       "item_price_std_month_lag_5             float32\n",
       "item_shop_cnt_sum_month_lag_5          float32\n",
       "item_shop_cnt_std_month_lag_5          float32\n",
       "item_shop_sale_sum_month_lag_5         float32\n",
       "item_shop_sale_std_month_lag_5         float32\n",
       "shop_id_count_month_lag_6              float32\n",
       "shop_id_sale_month_lag_6               float32\n",
       "item_id_count_month_lag_6              float32\n",
       "item_id_sale_month_lag_6               float32\n",
       "item_category_id_count_month_lag_6     float32\n",
       "item_category_id_sale_month_lag_6      float32\n",
       "item_price_mean_month_lag_6            float32\n",
       "item_price_std_month_lag_6             float32\n",
       "item_shop_cnt_sum_month_lag_6          float32\n",
       "item_shop_cnt_std_month_lag_6          float32\n",
       "item_shop_sale_sum_month_lag_6         float32\n",
       "item_shop_sale_std_month_lag_6         float32\n",
       "shop_id_count_month_lag_12             float32\n",
       "shop_id_sale_month_lag_12              float32\n",
       "item_id_count_month_lag_12             float32\n",
       "item_id_sale_month_lag_12              float32\n",
       "item_category_id_count_month_lag_12    float32\n",
       "item_category_id_sale_month_lag_12     float32\n",
       "item_price_mean_month_lag_12           float32\n",
       "item_price_std_month_lag_12            float32\n",
       "item_shop_cnt_sum_month_lag_12         float32\n",
       "item_shop_cnt_std_month_lag_12         float32\n",
       "item_shop_sale_sum_month_lag_12        float32\n",
       "item_shop_sale_std_month_lag_12        float32\n",
       "Length: 90, dtype: object"
      ]
     },
     "execution_count": 34,
     "metadata": {},
     "output_type": "execute_result"
    }
   ],
   "source": [
    "columns_to_drop = [\n",
    "    'item_price',\n",
    "    'shop_id_count_month', 'shop_id_sale_month',\n",
    "    'item_id_count_month', 'item_id_sale_month',\n",
    "    'item_category_id_count_month', 'item_category_id_sale_month',\n",
    "    'item_price_mean_month', 'item_price_std_month',\n",
    "    'item_shop_cnt_sum_month', 'item_shop_cnt_std_month',\n",
    "    'item_shop_sale_sum_month', 'item_shop_sale_std_month'\n",
    "]\n",
    "\n",
    "train_data.drop(columns_to_drop, axis='columns', inplace=True)\n",
    "train_data.dtypes"
   ]
  },
  {
   "cell_type": "markdown",
   "metadata": {},
   "source": [
    "### Make Test Data"
   ]
  },
  {
   "cell_type": "code",
   "execution_count": 35,
   "metadata": {},
   "outputs": [
    {
     "name": "stdout",
     "output_type": "stream",
     "text": [
      "number of test data points that do not have correponding training data: 214200\n"
     ]
    }
   ],
   "source": [
    "TEST_DATE_BLOCK_NUM = 34\n",
    "\n",
    "dates = train_data['date_block_num']\n",
    "test_from_train = train_data[dates == TEST_DATE_BLOCK_NUM]\n",
    "\n",
    "test_from_train.set_index(['shop_id', 'item_id'], inplace=True)\n",
    "test_data = test.join(test_from_train, on=['shop_id', 'item_id'])\n",
    "\n",
    "count_nan = test_data.shape[0] - test_data['date_block_num'].count()\n",
    "print('number of test data points that do not have correponding training data: ' + str(count_nan))\n",
    "\n",
    "test_data.drop(['target'], axis='columns', inplace=True)"
   ]
  },
  {
   "cell_type": "code",
   "execution_count": 36,
   "metadata": {},
   "outputs": [],
   "source": [
    "del test_from_train, count_nan"
   ]
  },
  {
   "cell_type": "markdown",
   "metadata": {},
   "source": [
    "### Make Validation Data"
   ]
  },
  {
   "cell_type": "code",
   "execution_count": 37,
   "metadata": {},
   "outputs": [],
   "source": [
    "valid_data = train_data[dates == (TEST_DATE_BLOCK_NUM - 1)]"
   ]
  },
  {
   "cell_type": "markdown",
   "metadata": {},
   "source": [
    "### Make Training Data"
   ]
  },
  {
   "cell_type": "code",
   "execution_count": 38,
   "metadata": {},
   "outputs": [],
   "source": [
    "training = train_data[dates < (TEST_DATE_BLOCK_NUM - 1)]"
   ]
  },
  {
   "cell_type": "markdown",
   "metadata": {},
   "source": [
    "### Save Training, Validation and Testing Data"
   ]
  },
  {
   "cell_type": "code",
   "execution_count": null,
   "metadata": {},
   "outputs": [],
   "source": [
    "training_path = os.path.join(VALIDATION_FOLDER, \"train.csv\")\n",
    "validation_path = os.path.join(VALIDATION_FOLDER, \"test.csv\")\n",
    "\n",
    "train_data_path = os.path.join(SUBMISSION_FOLDER, \"train.csv\")\n",
    "test_data_path = os.path.join(SUBMISSION_FOLDER, \"test.csv\")\n",
    "\n",
    "training.to_csv(training_path, index=False)\n",
    "valid_data.to_csv(validation_path, index=False)\n",
    "train_data.to_csv(train_data_path, index=False)\n",
    "test_data.to_csv(test_data_path, index=False)"
   ]
  },
  {
   "cell_type": "code",
   "execution_count": null,
   "metadata": {},
   "outputs": [],
   "source": []
  }
 ],
 "metadata": {
  "hw_version": "1.0.0",
  "kernelspec": {
   "display_name": "Python 3",
   "language": "python",
   "name": "python3"
  },
  "language_info": {
   "codemirror_mode": {
    "name": "ipython",
    "version": 3
   },
   "file_extension": ".py",
   "mimetype": "text/x-python",
   "name": "python",
   "nbconvert_exporter": "python",
   "pygments_lexer": "ipython3",
   "version": "3.6.7"
  }
 },
 "nbformat": 4,
 "nbformat_minor": 2
}
