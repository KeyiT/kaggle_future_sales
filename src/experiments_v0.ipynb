{
 "cells": [
  {
   "cell_type": "markdown",
   "metadata": {},
   "source": [
    "Version 1.0.1"
   ]
  },
  {
   "cell_type": "markdown",
   "metadata": {},
   "source": [
    "# Pandas basics "
   ]
  },
  {
   "cell_type": "code",
   "execution_count": 1,
   "metadata": {},
   "outputs": [],
   "source": [
    "import pandas as pd\n",
    "import numpy as np\n",
    "import os\n",
    "import data\n",
    "import matplotlib.pyplot as plt\n",
    "%matplotlib inline "
   ]
  },
  {
   "cell_type": "markdown",
   "metadata": {},
   "source": [
    "## Data Exploration"
   ]
  },
  {
   "cell_type": "code",
   "execution_count": 2,
   "metadata": {},
   "outputs": [],
   "source": [
    "DATA_FOLDER = data.READ_ONLY_ROOT\n",
    "\n",
    "transactions    = pd.read_csv(os.path.join(DATA_FOLDER, 'sales_train.csv'))\n",
    "items           = pd.read_csv(os.path.join(DATA_FOLDER, 'items.csv'))\n",
    "item_categories = pd.read_csv(os.path.join(DATA_FOLDER, 'item_categories.csv'))\n",
    "shops           = pd.read_csv(os.path.join(DATA_FOLDER, 'shops.csv'))"
   ]
  },
  {
   "cell_type": "code",
   "execution_count": 3,
   "metadata": {},
   "outputs": [
    {
     "data": {
      "text/html": [
       "<div>\n",
       "<style scoped>\n",
       "    .dataframe tbody tr th:only-of-type {\n",
       "        vertical-align: middle;\n",
       "    }\n",
       "\n",
       "    .dataframe tbody tr th {\n",
       "        vertical-align: top;\n",
       "    }\n",
       "\n",
       "    .dataframe thead th {\n",
       "        text-align: right;\n",
       "    }\n",
       "</style>\n",
       "<table border=\"1\" class=\"dataframe\">\n",
       "  <thead>\n",
       "    <tr style=\"text-align: right;\">\n",
       "      <th></th>\n",
       "      <th>date</th>\n",
       "      <th>date_block_num</th>\n",
       "      <th>shop_id</th>\n",
       "      <th>item_id</th>\n",
       "      <th>item_price</th>\n",
       "      <th>item_cnt_day</th>\n",
       "    </tr>\n",
       "  </thead>\n",
       "  <tbody>\n",
       "    <tr>\n",
       "      <th>0</th>\n",
       "      <td>02.01.2013</td>\n",
       "      <td>0</td>\n",
       "      <td>59</td>\n",
       "      <td>22154</td>\n",
       "      <td>999.00</td>\n",
       "      <td>1.0</td>\n",
       "    </tr>\n",
       "    <tr>\n",
       "      <th>1</th>\n",
       "      <td>03.01.2013</td>\n",
       "      <td>0</td>\n",
       "      <td>25</td>\n",
       "      <td>2552</td>\n",
       "      <td>899.00</td>\n",
       "      <td>1.0</td>\n",
       "    </tr>\n",
       "    <tr>\n",
       "      <th>2</th>\n",
       "      <td>05.01.2013</td>\n",
       "      <td>0</td>\n",
       "      <td>25</td>\n",
       "      <td>2552</td>\n",
       "      <td>899.00</td>\n",
       "      <td>-1.0</td>\n",
       "    </tr>\n",
       "    <tr>\n",
       "      <th>3</th>\n",
       "      <td>06.01.2013</td>\n",
       "      <td>0</td>\n",
       "      <td>25</td>\n",
       "      <td>2554</td>\n",
       "      <td>1709.05</td>\n",
       "      <td>1.0</td>\n",
       "    </tr>\n",
       "    <tr>\n",
       "      <th>4</th>\n",
       "      <td>15.01.2013</td>\n",
       "      <td>0</td>\n",
       "      <td>25</td>\n",
       "      <td>2555</td>\n",
       "      <td>1099.00</td>\n",
       "      <td>1.0</td>\n",
       "    </tr>\n",
       "  </tbody>\n",
       "</table>\n",
       "</div>"
      ],
      "text/plain": [
       "         date  date_block_num  shop_id  item_id  item_price  item_cnt_day\n",
       "0  02.01.2013               0       59    22154      999.00           1.0\n",
       "1  03.01.2013               0       25     2552      899.00           1.0\n",
       "2  05.01.2013               0       25     2552      899.00          -1.0\n",
       "3  06.01.2013               0       25     2554     1709.05           1.0\n",
       "4  15.01.2013               0       25     2555     1099.00           1.0"
      ]
     },
     "execution_count": 3,
     "metadata": {},
     "output_type": "execute_result"
    }
   ],
   "source": [
    "transactions.head()"
   ]
  },
  {
   "cell_type": "code",
   "execution_count": 4,
   "metadata": {},
   "outputs": [
    {
     "data": {
      "text/html": [
       "<div>\n",
       "<style scoped>\n",
       "    .dataframe tbody tr th:only-of-type {\n",
       "        vertical-align: middle;\n",
       "    }\n",
       "\n",
       "    .dataframe tbody tr th {\n",
       "        vertical-align: top;\n",
       "    }\n",
       "\n",
       "    .dataframe thead th {\n",
       "        text-align: right;\n",
       "    }\n",
       "</style>\n",
       "<table border=\"1\" class=\"dataframe\">\n",
       "  <thead>\n",
       "    <tr style=\"text-align: right;\">\n",
       "      <th></th>\n",
       "      <th>item_category_name</th>\n",
       "      <th>item_category_id</th>\n",
       "    </tr>\n",
       "  </thead>\n",
       "  <tbody>\n",
       "    <tr>\n",
       "      <th>0</th>\n",
       "      <td>PC - Гарнитуры/Наушники</td>\n",
       "      <td>0</td>\n",
       "    </tr>\n",
       "    <tr>\n",
       "      <th>1</th>\n",
       "      <td>Аксессуары - PS2</td>\n",
       "      <td>1</td>\n",
       "    </tr>\n",
       "    <tr>\n",
       "      <th>2</th>\n",
       "      <td>Аксессуары - PS3</td>\n",
       "      <td>2</td>\n",
       "    </tr>\n",
       "    <tr>\n",
       "      <th>3</th>\n",
       "      <td>Аксессуары - PS4</td>\n",
       "      <td>3</td>\n",
       "    </tr>\n",
       "    <tr>\n",
       "      <th>4</th>\n",
       "      <td>Аксессуары - PSP</td>\n",
       "      <td>4</td>\n",
       "    </tr>\n",
       "  </tbody>\n",
       "</table>\n",
       "</div>"
      ],
      "text/plain": [
       "        item_category_name  item_category_id\n",
       "0  PC - Гарнитуры/Наушники                 0\n",
       "1         Аксессуары - PS2                 1\n",
       "2         Аксессуары - PS3                 2\n",
       "3         Аксессуары - PS4                 3\n",
       "4         Аксессуары - PSP                 4"
      ]
     },
     "execution_count": 4,
     "metadata": {},
     "output_type": "execute_result"
    }
   ],
   "source": [
    "item_categories.head()"
   ]
  },
  {
   "cell_type": "code",
   "execution_count": 5,
   "metadata": {},
   "outputs": [
    {
     "data": {
      "text/html": [
       "<div>\n",
       "<style scoped>\n",
       "    .dataframe tbody tr th:only-of-type {\n",
       "        vertical-align: middle;\n",
       "    }\n",
       "\n",
       "    .dataframe tbody tr th {\n",
       "        vertical-align: top;\n",
       "    }\n",
       "\n",
       "    .dataframe thead th {\n",
       "        text-align: right;\n",
       "    }\n",
       "</style>\n",
       "<table border=\"1\" class=\"dataframe\">\n",
       "  <thead>\n",
       "    <tr style=\"text-align: right;\">\n",
       "      <th></th>\n",
       "      <th>item_name</th>\n",
       "      <th>item_id</th>\n",
       "      <th>item_category_id</th>\n",
       "    </tr>\n",
       "  </thead>\n",
       "  <tbody>\n",
       "    <tr>\n",
       "      <th>0</th>\n",
       "      <td>! ВО ВЛАСТИ НАВАЖДЕНИЯ (ПЛАСТ.)         D</td>\n",
       "      <td>0</td>\n",
       "      <td>40</td>\n",
       "    </tr>\n",
       "    <tr>\n",
       "      <th>1</th>\n",
       "      <td>!ABBYY FineReader 12 Professional Edition Full...</td>\n",
       "      <td>1</td>\n",
       "      <td>76</td>\n",
       "    </tr>\n",
       "    <tr>\n",
       "      <th>2</th>\n",
       "      <td>***В ЛУЧАХ СЛАВЫ   (UNV)                    D</td>\n",
       "      <td>2</td>\n",
       "      <td>40</td>\n",
       "    </tr>\n",
       "    <tr>\n",
       "      <th>3</th>\n",
       "      <td>***ГОЛУБАЯ ВОЛНА  (Univ)                      D</td>\n",
       "      <td>3</td>\n",
       "      <td>40</td>\n",
       "    </tr>\n",
       "    <tr>\n",
       "      <th>4</th>\n",
       "      <td>***КОРОБКА (СТЕКЛО)                       D</td>\n",
       "      <td>4</td>\n",
       "      <td>40</td>\n",
       "    </tr>\n",
       "  </tbody>\n",
       "</table>\n",
       "</div>"
      ],
      "text/plain": [
       "                                           item_name  item_id  \\\n",
       "0          ! ВО ВЛАСТИ НАВАЖДЕНИЯ (ПЛАСТ.)         D        0   \n",
       "1  !ABBYY FineReader 12 Professional Edition Full...        1   \n",
       "2      ***В ЛУЧАХ СЛАВЫ   (UNV)                    D        2   \n",
       "3    ***ГОЛУБАЯ ВОЛНА  (Univ)                      D        3   \n",
       "4        ***КОРОБКА (СТЕКЛО)                       D        4   \n",
       "\n",
       "   item_category_id  \n",
       "0                40  \n",
       "1                76  \n",
       "2                40  \n",
       "3                40  \n",
       "4                40  "
      ]
     },
     "execution_count": 5,
     "metadata": {},
     "output_type": "execute_result"
    }
   ],
   "source": [
    "items.head()"
   ]
  },
  {
   "cell_type": "code",
   "execution_count": 6,
   "metadata": {},
   "outputs": [
    {
     "data": {
      "text/html": [
       "<div>\n",
       "<style scoped>\n",
       "    .dataframe tbody tr th:only-of-type {\n",
       "        vertical-align: middle;\n",
       "    }\n",
       "\n",
       "    .dataframe tbody tr th {\n",
       "        vertical-align: top;\n",
       "    }\n",
       "\n",
       "    .dataframe thead th {\n",
       "        text-align: right;\n",
       "    }\n",
       "</style>\n",
       "<table border=\"1\" class=\"dataframe\">\n",
       "  <thead>\n",
       "    <tr style=\"text-align: right;\">\n",
       "      <th></th>\n",
       "      <th>shop_name</th>\n",
       "      <th>shop_id</th>\n",
       "    </tr>\n",
       "  </thead>\n",
       "  <tbody>\n",
       "    <tr>\n",
       "      <th>0</th>\n",
       "      <td>!Якутск Орджоникидзе, 56 фран</td>\n",
       "      <td>0</td>\n",
       "    </tr>\n",
       "    <tr>\n",
       "      <th>1</th>\n",
       "      <td>!Якутск ТЦ \"Центральный\" фран</td>\n",
       "      <td>1</td>\n",
       "    </tr>\n",
       "    <tr>\n",
       "      <th>2</th>\n",
       "      <td>Адыгея ТЦ \"Мега\"</td>\n",
       "      <td>2</td>\n",
       "    </tr>\n",
       "    <tr>\n",
       "      <th>3</th>\n",
       "      <td>Балашиха ТРК \"Октябрь-Киномир\"</td>\n",
       "      <td>3</td>\n",
       "    </tr>\n",
       "    <tr>\n",
       "      <th>4</th>\n",
       "      <td>Волжский ТЦ \"Волга Молл\"</td>\n",
       "      <td>4</td>\n",
       "    </tr>\n",
       "  </tbody>\n",
       "</table>\n",
       "</div>"
      ],
      "text/plain": [
       "                        shop_name  shop_id\n",
       "0   !Якутск Орджоникидзе, 56 фран        0\n",
       "1   !Якутск ТЦ \"Центральный\" фран        1\n",
       "2                Адыгея ТЦ \"Мега\"        2\n",
       "3  Балашиха ТРК \"Октябрь-Киномир\"        3\n",
       "4        Волжский ТЦ \"Волга Молл\"        4"
      ]
     },
     "execution_count": 6,
     "metadata": {},
     "output_type": "execute_result"
    }
   ],
   "source": [
    "shops.head()"
   ]
  },
  {
   "cell_type": "markdown",
   "metadata": {},
   "source": [
    "### What was the maximum total revenue among all the shops in September, 2014?** \n",
    "Hereinafter *revenue* refers to total sales minus value of goods returned."
   ]
  },
  {
   "cell_type": "code",
   "execution_count": 35,
   "metadata": {},
   "outputs": [
    {
     "name": "stdout",
     "output_type": "stream",
     "text": [
      "maximum revenue in SEP: 7982852.2\n",
      "Current answer for task max_revenue is: 7982852.2\n"
     ]
    },
    {
     "name": "stderr",
     "output_type": "stream",
     "text": [
      "/opt/conda/lib/python3.6/site-packages/ipykernel/__main__.py:4: SettingWithCopyWarning: \n",
      "A value is trying to be set on a copy of a slice from a DataFrame.\n",
      "Try using .loc[row_indexer,col_indexer] = value instead\n",
      "\n",
      "See the caveats in the documentation: http://pandas.pydata.org/pandas-docs/stable/indexing.html#indexing-view-versus-copy\n"
     ]
    }
   ],
   "source": [
    "# YOUR CODE GOES HERE\n",
    "transactions['date'] = pd.to_datetime(transactions['date'], format=\"%d.%m.%Y\")\n",
    "transactions_sep = transactions[(transactions['date'] <= pd.to_datetime('30.09.2014', format=\"%d.%m.%Y\")) & (transactions['date'] >= pd.to_datetime('01.09.2014', format=\"%d.%m.%Y\"))]\n",
    "transactions_sep['items_price_total'] = transactions_sep['item_price'] * transactions_sep['item_cnt_day']\n",
    "revenue_sep = transactions_sep[['shop_id', 'items_price_total']].groupby('shop_id').sum().reset_index()\n",
    "max_revenue = revenue_sep['items_price_total'].max()\n",
    "print(\"maximum revenue in SEP: \" + str(max_revenue))"
   ]
  },
  {
   "cell_type": "markdown",
   "metadata": {},
   "source": [
    "### What item category generated the highest revenue in summer 2014?"
   ]
  },
  {
   "cell_type": "code",
   "execution_count": 77,
   "metadata": {},
   "outputs": [
    {
     "name": "stdout",
     "output_type": "stream",
     "text": [
      "item_category_id\n",
      "2      2755520.00\n",
      "3      6854669.80\n",
      "4        38833.20\n",
      "5       418233.10\n",
      "6      3360382.50\n",
      "8       433200.00\n",
      "9       291426.84\n",
      "11     4970925.00\n",
      "12    31385229.70\n",
      "13        4686.00\n",
      "14     2337794.30\n",
      "15     5047875.80\n",
      "16      191141.00\n",
      "17      167175.00\n",
      "19    26237112.15\n",
      "20    32157302.43\n",
      "21      991094.01\n",
      "22     2958475.70\n",
      "23    19896624.03\n",
      "25     1032434.35\n",
      "28     8868913.27\n",
      "29     2286658.00\n",
      "30    15876623.34\n",
      "31     1209713.95\n",
      "32      979500.00\n",
      "33     1175955.70\n",
      "34      248880.00\n",
      "35     3658967.10\n",
      "37     7108188.56\n",
      "38     2418047.46\n",
      "         ...     \n",
      "46         511.00\n",
      "49     1004600.10\n",
      "51         129.00\n",
      "54      128975.00\n",
      "55     9468644.35\n",
      "56      493331.10\n",
      "57      850384.80\n",
      "58     1813753.20\n",
      "59        9549.00\n",
      "60      327909.00\n",
      "61      698523.80\n",
      "62     2005028.90\n",
      "63     3921749.95\n",
      "64     3340694.95\n",
      "65     2015607.90\n",
      "66         730.00\n",
      "67     2418752.20\n",
      "69     2268859.50\n",
      "70      820233.65\n",
      "71       93940.25\n",
      "72     6167981.40\n",
      "73     1884406.20\n",
      "75     5950283.30\n",
      "76      904313.00\n",
      "77        7385.00\n",
      "78       55771.00\n",
      "79     1080480.00\n",
      "81         599.00\n",
      "82        1629.00\n",
      "83       52762.00\n",
      "Name: items_price_total, Length: 66, dtype: float64\n",
      "Current answer for task category_id_with_max_revenue is: 20\n"
     ]
    },
    {
     "name": "stderr",
     "output_type": "stream",
     "text": [
      "/opt/conda/lib/python3.6/site-packages/ipykernel/__main__.py:3: SettingWithCopyWarning: \n",
      "A value is trying to be set on a copy of a slice from a DataFrame.\n",
      "Try using .loc[row_indexer,col_indexer] = value instead\n",
      "\n",
      "See the caveats in the documentation: http://pandas.pydata.org/pandas-docs/stable/indexing.html#indexing-view-versus-copy\n",
      "  app.launch_new_instance()\n"
     ]
    }
   ],
   "source": [
    "# YOUR CODE GOES HERE\n",
    "transactions_summer = transactions[(transactions['date'] <= pd.to_datetime('31.08.2014', format=\"%d.%m.%Y\")) & (transactions['date'] >= pd.to_datetime('01.06.2014', format=\"%d.%m.%Y\"))]\n",
    "transactions_summer['items_price_total'] = transactions_summer['item_price'] * transactions_summer['item_cnt_day']\n",
    "transactions_summer = transactions_summer.join(items[['item_id', 'item_category_id']].set_index('item_id'), on='item_id')\n",
    "revenue_summer = transactions_summer[['item_category_id', 'items_price_total']].groupby('item_category_id').sum()\n",
    "category_id_with_max_revenue = revenue_summer['items_price_total'].argmax()"
   ]
  },
  {
   "cell_type": "markdown",
   "metadata": {},
   "source": [
    "### How many items are there, such that their price stays constant (to the best of our knowledge) during the whole period of time?"
   ]
  },
  {
   "cell_type": "code",
   "execution_count": 57,
   "metadata": {},
   "outputs": [
    {
     "name": "stdout",
     "output_type": "stream",
     "text": [
      "Current answer for task num_items_constant_price is: 5926\n"
     ]
    }
   ],
   "source": [
    "# YOUR CODE GOES HERE\n",
    "transaction_group = transactions[['item_id', 'item_price']].groupby('item_id')\n",
    "item_price_diff = transaction_group.max() - transaction_group.min()\n",
    "num_items_constant_price = np.count_nonzero(item_price_diff <= 0.009)"
   ]
  },
  {
   "cell_type": "markdown",
   "metadata": {},
   "source": [
    "Remember, the data can sometimes be noisy."
   ]
  },
  {
   "cell_type": "markdown",
   "metadata": {},
   "source": [
    "### What was the variance of the number of sold items per day sequence for the shop with `shop_id = 25` in December, 2014?"
   ]
  },
  {
   "cell_type": "code",
   "execution_count": 88,
   "metadata": {},
   "outputs": [
    {
     "name": "stdout",
     "output_type": "stream",
     "text": [
      "            item_cnt_day\n",
      "date                    \n",
      "2014-12-01         153.0\n",
      "2014-12-02         169.0\n",
      "2014-12-03         195.0\n",
      "2014-12-04         164.0\n",
      "2014-12-05         300.0\n",
      "2014-12-06         350.0\n",
      "2014-12-07         325.0\n",
      "2014-12-08         209.0\n",
      "2014-12-09         204.0\n",
      "2014-12-10         143.0\n",
      "2014-12-11         214.0\n",
      "2014-12-12         297.0\n",
      "2014-12-13         432.0\n",
      "2014-12-14         305.0\n",
      "2014-12-15         225.0\n",
      "2014-12-16         192.0\n",
      "2014-12-17         285.0\n",
      "2014-12-18         325.0\n",
      "2014-12-19         418.0\n",
      "2014-12-20         579.0\n",
      "2014-12-21         379.0\n",
      "2014-12-22         318.0\n",
      "2014-12-23         371.0\n",
      "2014-12-24         433.0\n",
      "2014-12-25         505.0\n",
      "2014-12-26         620.0\n",
      "2014-12-27         743.0\n",
      "2014-12-28         662.0\n",
      "2014-12-30        1966.0\n",
      "2014-12-31         776.0\n",
      "['2014-12-01T00:00:00.000000000' '2014-12-02T00:00:00.000000000'\n",
      " '2014-12-03T00:00:00.000000000' '2014-12-04T00:00:00.000000000'\n",
      " '2014-12-05T00:00:00.000000000' '2014-12-06T00:00:00.000000000'\n",
      " '2014-12-07T00:00:00.000000000' '2014-12-08T00:00:00.000000000'\n",
      " '2014-12-09T00:00:00.000000000' '2014-12-10T00:00:00.000000000'\n",
      " '2014-12-11T00:00:00.000000000' '2014-12-12T00:00:00.000000000'\n",
      " '2014-12-13T00:00:00.000000000' '2014-12-14T00:00:00.000000000'\n",
      " '2014-12-15T00:00:00.000000000' '2014-12-16T00:00:00.000000000'\n",
      " '2014-12-17T00:00:00.000000000' '2014-12-18T00:00:00.000000000'\n",
      " '2014-12-19T00:00:00.000000000' '2014-12-20T00:00:00.000000000'\n",
      " '2014-12-21T00:00:00.000000000' '2014-12-22T00:00:00.000000000'\n",
      " '2014-12-23T00:00:00.000000000' '2014-12-24T00:00:00.000000000'\n",
      " '2014-12-25T00:00:00.000000000' '2014-12-26T00:00:00.000000000'\n",
      " '2014-12-27T00:00:00.000000000' '2014-12-28T00:00:00.000000000'\n",
      " '2014-12-30T00:00:00.000000000' '2014-12-31T00:00:00.000000000']\n"
     ]
    },
    {
     "data": {
      "image/png": "[encoded data removed]",
      "text/plain": [
       "<matplotlib.figure.Figure at 0x7f6d4c0dacf8>"
      ]
     },
     "metadata": {},
     "output_type": "display_data"
    },
    {
     "name": "stdout",
     "output_type": "stream",
     "text": [
      "Current answer for task total_num_items_sold_var is: 117167.70229885059\n"
     ]
    }
   ],
   "source": [
    "shop_id = 25\n",
    "\n",
    "transactions_dec = transactions[(transactions['date'] <= pd.to_datetime('31.12.2014', format=\"%d.%m.%Y\")) & (transactions['date'] >= pd.to_datetime('01.12.2014', format=\"%d.%m.%Y\"))]\n",
    "transactions_dec = transactions_dec[['date', 'shop_id', 'item_cnt_day']]\n",
    "#transactions_dec = transactions_dec.append(pd.DataFrame([[pd.to_datetime('29.12.2014', format=\"%d.%m.%Y\"), 25, 0],], columns=['date', 'shop_id', 'item_cnt_day']))\n",
    "transactions_dec = transactions_dec[transactions_dec['shop_id'] == shop_id][['date', 'item_cnt_day']].groupby('date').sum()\n",
    "print(transactions_dec)\n",
    "\n",
    "total_num_items_sold = transactions_dec['item_cnt_day'].values\n",
    "days = transactions_dec.reset_index()['date'].values\n",
    "print(days)\n",
    "\n",
    "# Plot it\n",
    "plt.plot(days, total_num_items_sold)\n",
    "plt.ylabel('Num items')\n",
    "plt.xlabel('Day')\n",
    "plt.title(\"Daily revenue for shop_id = 25\")\n",
    "plt.show()\n",
    "\n",
    "total_num_items_sold_var = transactions_dec['item_cnt_day'].var(ddof=1)"
   ]
  }
 ],
 "metadata": {
  "hw_version": "1.0.0",
  "kernelspec": {
   "display_name": "Python 3",
   "language": "python",
   "name": "python3"
  },
  "language_info": {
   "codemirror_mode": {
    "name": "ipython",
    "version": 3
   },
   "file_extension": ".py",
   "mimetype": "text/x-python",
   "name": "python",
   "nbconvert_exporter": "python",
   "pygments_lexer": "ipython3",
   "version": "3.6.7"
  }
 },
 "nbformat": 4,
 "nbformat_minor": 2
}
